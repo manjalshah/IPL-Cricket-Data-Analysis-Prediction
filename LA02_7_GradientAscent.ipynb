{
  "cells": [
    {
      "cell_type": "markdown",
      "metadata": {
        "id": "47nDB-iBA-74"
      },
      "source": [
        "# IT 496 : Introduction to Data Mining\n",
        "## Lab : 2\n",
        "### 16/10/2022\n",
        "\n",
        "> Dhwanil Shah (201901450)\n",
        "\n",
        "> Pathik Patel (202003002)\n",
        "\n",
        "> Nisarg Suthar (202003030)\n",
        "\n",
        "> Manjal Shah (202003037)"
      ]
    },
    {
      "cell_type": "markdown",
      "metadata": {
        "id": "Ab-WpGeNBZPl"
      },
      "source": [
        "* Importing required libraries"
      ]
    },
    {
      "cell_type": "code",
      "execution_count": null,
      "metadata": {
        "id": "95xAEkN0sawL"
      },
      "outputs": [],
      "source": [
        "import numpy as np\n",
        "import pandas as pd\n",
        "import seaborn as sns\n",
        "import matplotlib.pyplot as plt\n",
        "from collections import defaultdict\n",
        "\n",
        "from sklearn.pipeline import Pipeline\n",
        "from sklearn.preprocessing import StandardScaler, MinMaxScaler\n",
        "from sklearn.metrics import accuracy_score, classification_report, confusion_matrix\n",
        "from sklearn.model_selection import train_test_split, cross_val_score, GridSearchCV, RandomizedSearchCV\n",
        "\n",
        "from sklearn.svm import SVC\n",
        "from sklearn.tree import DecisionTreeClassifier\n",
        "from sklearn.neighbors import KNeighborsClassifier\n",
        "from sklearn.ensemble import RandomForestClassifier\n",
        "from sklearn.linear_model import LogisticRegression\n",
        "\n",
        "import keras\n",
        "from keras import layers\n",
        "\n",
        "sns.set_style('darkgrid')\n",
        "plt.rcParams['figure.figsize'] = [16,6]\n",
        "plt.rcParams['font.size'] = 15\n",
        "\n",
        "import warnings\n",
        "warnings.filterwarnings('ignore')"
      ]
    },
    {
      "cell_type": "markdown",
      "metadata": {
        "id": "uqLMXUMLESE2"
      },
      "source": [
        "* Uploading data to drive and mounting the drive to use it."
      ]
    },
    {
      "cell_type": "code",
      "execution_count": null,
      "metadata": {
        "colab": {
          "base_uri": "https://localhost:8080/"
        },
        "id": "72v_kFgFxz40",
        "outputId": "4bcdb643-083c-4396-9316-9943a2ab7e65"
      },
      "outputs": [
        {
          "output_type": "stream",
          "name": "stdout",
          "text": [
            "Mounted at /content/gdrive\n"
          ]
        }
      ],
      "source": [
        "from google.colab import drive\n",
        "drive.mount('/content/gdrive')"
      ]
    },
    {
      "cell_type": "markdown",
      "metadata": {
        "id": "-np6YkV3Bpku"
      },
      "source": [
        "## EDA"
      ]
    },
    {
      "cell_type": "code",
      "execution_count": null,
      "metadata": {
        "colab": {
          "base_uri": "https://localhost:8080/",
          "height": 461
        },
        "id": "h-_pBrLbyTqN",
        "outputId": "0010a8aa-d167-4602-e98b-06242276afbd"
      },
      "outputs": [
        {
          "output_type": "stream",
          "name": "stdout",
          "text": [
            "(193468, 18)\n"
          ]
        },
        {
          "output_type": "execute_result",
          "data": {
            "text/plain": [
              "       id  inning  over  ball      batsman  non_striker     bowler  \\\n",
              "0  335982       1     6     5   RT Ponting  BB McCullum  AA Noffke   \n",
              "1  335982       1     6     6  BB McCullum   RT Ponting  AA Noffke   \n",
              "2  335982       1     7     1  BB McCullum   RT Ponting     Z Khan   \n",
              "3  335982       1     7     2  BB McCullum   RT Ponting     Z Khan   \n",
              "4  335982       1     7     3   RT Ponting  BB McCullum     Z Khan   \n",
              "\n",
              "   batsman_runs  extra_runs  total_runs  non_boundary  is_wicket  \\\n",
              "0             1           0           1             0          0   \n",
              "1             1           0           1             0          0   \n",
              "2             0           0           0             0          0   \n",
              "3             1           0           1             0          0   \n",
              "4             1           0           1             0          0   \n",
              "\n",
              "  dismissal_kind player_dismissed fielder extras_type           batting_team  \\\n",
              "0            NaN              NaN     NaN         NaN  Kolkata Knight Riders   \n",
              "1            NaN              NaN     NaN         NaN  Kolkata Knight Riders   \n",
              "2            NaN              NaN     NaN         NaN  Kolkata Knight Riders   \n",
              "3            NaN              NaN     NaN         NaN  Kolkata Knight Riders   \n",
              "4            NaN              NaN     NaN         NaN  Kolkata Knight Riders   \n",
              "\n",
              "                  bowling_team  \n",
              "0  Royal Challengers Bangalore  \n",
              "1  Royal Challengers Bangalore  \n",
              "2  Royal Challengers Bangalore  \n",
              "3  Royal Challengers Bangalore  \n",
              "4  Royal Challengers Bangalore  "
            ],
            "text/html": [
              "\n",
              "  <div id=\"df-959f5091-1e15-46f6-bd1a-f6196dad8865\">\n",
              "    <div class=\"colab-df-container\">\n",
              "      <div>\n",
              "<style scoped>\n",
              "    .dataframe tbody tr th:only-of-type {\n",
              "        vertical-align: middle;\n",
              "    }\n",
              "\n",
              "    .dataframe tbody tr th {\n",
              "        vertical-align: top;\n",
              "    }\n",
              "\n",
              "    .dataframe thead th {\n",
              "        text-align: right;\n",
              "    }\n",
              "</style>\n",
              "<table border=\"1\" class=\"dataframe\">\n",
              "  <thead>\n",
              "    <tr style=\"text-align: right;\">\n",
              "      <th></th>\n",
              "      <th>id</th>\n",
              "      <th>inning</th>\n",
              "      <th>over</th>\n",
              "      <th>ball</th>\n",
              "      <th>batsman</th>\n",
              "      <th>non_striker</th>\n",
              "      <th>bowler</th>\n",
              "      <th>batsman_runs</th>\n",
              "      <th>extra_runs</th>\n",
              "      <th>total_runs</th>\n",
              "      <th>non_boundary</th>\n",
              "      <th>is_wicket</th>\n",
              "      <th>dismissal_kind</th>\n",
              "      <th>player_dismissed</th>\n",
              "      <th>fielder</th>\n",
              "      <th>extras_type</th>\n",
              "      <th>batting_team</th>\n",
              "      <th>bowling_team</th>\n",
              "    </tr>\n",
              "  </thead>\n",
              "  <tbody>\n",
              "    <tr>\n",
              "      <th>0</th>\n",
              "      <td>335982</td>\n",
              "      <td>1</td>\n",
              "      <td>6</td>\n",
              "      <td>5</td>\n",
              "      <td>RT Ponting</td>\n",
              "      <td>BB McCullum</td>\n",
              "      <td>AA Noffke</td>\n",
              "      <td>1</td>\n",
              "      <td>0</td>\n",
              "      <td>1</td>\n",
              "      <td>0</td>\n",
              "      <td>0</td>\n",
              "      <td>NaN</td>\n",
              "      <td>NaN</td>\n",
              "      <td>NaN</td>\n",
              "      <td>NaN</td>\n",
              "      <td>Kolkata Knight Riders</td>\n",
              "      <td>Royal Challengers Bangalore</td>\n",
              "    </tr>\n",
              "    <tr>\n",
              "      <th>1</th>\n",
              "      <td>335982</td>\n",
              "      <td>1</td>\n",
              "      <td>6</td>\n",
              "      <td>6</td>\n",
              "      <td>BB McCullum</td>\n",
              "      <td>RT Ponting</td>\n",
              "      <td>AA Noffke</td>\n",
              "      <td>1</td>\n",
              "      <td>0</td>\n",
              "      <td>1</td>\n",
              "      <td>0</td>\n",
              "      <td>0</td>\n",
              "      <td>NaN</td>\n",
              "      <td>NaN</td>\n",
              "      <td>NaN</td>\n",
              "      <td>NaN</td>\n",
              "      <td>Kolkata Knight Riders</td>\n",
              "      <td>Royal Challengers Bangalore</td>\n",
              "    </tr>\n",
              "    <tr>\n",
              "      <th>2</th>\n",
              "      <td>335982</td>\n",
              "      <td>1</td>\n",
              "      <td>7</td>\n",
              "      <td>1</td>\n",
              "      <td>BB McCullum</td>\n",
              "      <td>RT Ponting</td>\n",
              "      <td>Z Khan</td>\n",
              "      <td>0</td>\n",
              "      <td>0</td>\n",
              "      <td>0</td>\n",
              "      <td>0</td>\n",
              "      <td>0</td>\n",
              "      <td>NaN</td>\n",
              "      <td>NaN</td>\n",
              "      <td>NaN</td>\n",
              "      <td>NaN</td>\n",
              "      <td>Kolkata Knight Riders</td>\n",
              "      <td>Royal Challengers Bangalore</td>\n",
              "    </tr>\n",
              "    <tr>\n",
              "      <th>3</th>\n",
              "      <td>335982</td>\n",
              "      <td>1</td>\n",
              "      <td>7</td>\n",
              "      <td>2</td>\n",
              "      <td>BB McCullum</td>\n",
              "      <td>RT Ponting</td>\n",
              "      <td>Z Khan</td>\n",
              "      <td>1</td>\n",
              "      <td>0</td>\n",
              "      <td>1</td>\n",
              "      <td>0</td>\n",
              "      <td>0</td>\n",
              "      <td>NaN</td>\n",
              "      <td>NaN</td>\n",
              "      <td>NaN</td>\n",
              "      <td>NaN</td>\n",
              "      <td>Kolkata Knight Riders</td>\n",
              "      <td>Royal Challengers Bangalore</td>\n",
              "    </tr>\n",
              "    <tr>\n",
              "      <th>4</th>\n",
              "      <td>335982</td>\n",
              "      <td>1</td>\n",
              "      <td>7</td>\n",
              "      <td>3</td>\n",
              "      <td>RT Ponting</td>\n",
              "      <td>BB McCullum</td>\n",
              "      <td>Z Khan</td>\n",
              "      <td>1</td>\n",
              "      <td>0</td>\n",
              "      <td>1</td>\n",
              "      <td>0</td>\n",
              "      <td>0</td>\n",
              "      <td>NaN</td>\n",
              "      <td>NaN</td>\n",
              "      <td>NaN</td>\n",
              "      <td>NaN</td>\n",
              "      <td>Kolkata Knight Riders</td>\n",
              "      <td>Royal Challengers Bangalore</td>\n",
              "    </tr>\n",
              "  </tbody>\n",
              "</table>\n",
              "</div>\n",
              "      <button class=\"colab-df-convert\" onclick=\"convertToInteractive('df-959f5091-1e15-46f6-bd1a-f6196dad8865')\"\n",
              "              title=\"Convert this dataframe to an interactive table.\"\n",
              "              style=\"display:none;\">\n",
              "        \n",
              "  <svg xmlns=\"http://www.w3.org/2000/svg\" height=\"24px\"viewBox=\"0 0 24 24\"\n",
              "       width=\"24px\">\n",
              "    <path d=\"M0 0h24v24H0V0z\" fill=\"none\"/>\n",
              "    <path d=\"M18.56 5.44l.94 2.06.94-2.06 2.06-.94-2.06-.94-.94-2.06-.94 2.06-2.06.94zm-11 1L8.5 8.5l.94-2.06 2.06-.94-2.06-.94L8.5 2.5l-.94 2.06-2.06.94zm10 10l.94 2.06.94-2.06 2.06-.94-2.06-.94-.94-2.06-.94 2.06-2.06.94z\"/><path d=\"M17.41 7.96l-1.37-1.37c-.4-.4-.92-.59-1.43-.59-.52 0-1.04.2-1.43.59L10.3 9.45l-7.72 7.72c-.78.78-.78 2.05 0 2.83L4 21.41c.39.39.9.59 1.41.59.51 0 1.02-.2 1.41-.59l7.78-7.78 2.81-2.81c.8-.78.8-2.07 0-2.86zM5.41 20L4 18.59l7.72-7.72 1.47 1.35L5.41 20z\"/>\n",
              "  </svg>\n",
              "      </button>\n",
              "      \n",
              "  <style>\n",
              "    .colab-df-container {\n",
              "      display:flex;\n",
              "      flex-wrap:wrap;\n",
              "      gap: 12px;\n",
              "    }\n",
              "\n",
              "    .colab-df-convert {\n",
              "      background-color: #E8F0FE;\n",
              "      border: none;\n",
              "      border-radius: 50%;\n",
              "      cursor: pointer;\n",
              "      display: none;\n",
              "      fill: #1967D2;\n",
              "      height: 32px;\n",
              "      padding: 0 0 0 0;\n",
              "      width: 32px;\n",
              "    }\n",
              "\n",
              "    .colab-df-convert:hover {\n",
              "      background-color: #E2EBFA;\n",
              "      box-shadow: 0px 1px 2px rgba(60, 64, 67, 0.3), 0px 1px 3px 1px rgba(60, 64, 67, 0.15);\n",
              "      fill: #174EA6;\n",
              "    }\n",
              "\n",
              "    [theme=dark] .colab-df-convert {\n",
              "      background-color: #3B4455;\n",
              "      fill: #D2E3FC;\n",
              "    }\n",
              "\n",
              "    [theme=dark] .colab-df-convert:hover {\n",
              "      background-color: #434B5C;\n",
              "      box-shadow: 0px 1px 3px 1px rgba(0, 0, 0, 0.15);\n",
              "      filter: drop-shadow(0px 1px 2px rgba(0, 0, 0, 0.3));\n",
              "      fill: #FFFFFF;\n",
              "    }\n",
              "  </style>\n",
              "\n",
              "      <script>\n",
              "        const buttonEl =\n",
              "          document.querySelector('#df-959f5091-1e15-46f6-bd1a-f6196dad8865 button.colab-df-convert');\n",
              "        buttonEl.style.display =\n",
              "          google.colab.kernel.accessAllowed ? 'block' : 'none';\n",
              "\n",
              "        async function convertToInteractive(key) {\n",
              "          const element = document.querySelector('#df-959f5091-1e15-46f6-bd1a-f6196dad8865');\n",
              "          const dataTable =\n",
              "            await google.colab.kernel.invokeFunction('convertToInteractive',\n",
              "                                                     [key], {});\n",
              "          if (!dataTable) return;\n",
              "\n",
              "          const docLinkHtml = 'Like what you see? Visit the ' +\n",
              "            '<a target=\"_blank\" href=https://colab.research.google.com/notebooks/data_table.ipynb>data table notebook</a>'\n",
              "            + ' to learn more about interactive tables.';\n",
              "          element.innerHTML = '';\n",
              "          dataTable['output_type'] = 'display_data';\n",
              "          await google.colab.output.renderOutput(dataTable, element);\n",
              "          const docLink = document.createElement('div');\n",
              "          docLink.innerHTML = docLinkHtml;\n",
              "          element.appendChild(docLink);\n",
              "        }\n",
              "      </script>\n",
              "    </div>\n",
              "  </div>\n",
              "  "
            ]
          },
          "metadata": {},
          "execution_count": 3
        }
      ],
      "source": [
        "data = pd.read_csv(\"/content/gdrive/MyDrive/IPL Ball-by-Ball 2008-2020 - IPL Ball-by-Ball 2008-2020.csv\")\n",
        "print(data.shape)\n",
        "data.head()"
      ]
    },
    {
      "cell_type": "code",
      "execution_count": null,
      "metadata": {
        "colab": {
          "base_uri": "https://localhost:8080/"
        },
        "id": "DgD3MXwlzUn4",
        "outputId": "0c7f31e3-bfe6-46de-dda0-e92f701d3b8c"
      },
      "outputs": [
        {
          "output_type": "stream",
          "name": "stdout",
          "text": [
            "<class 'pandas.core.frame.DataFrame'>\n",
            "RangeIndex: 193468 entries, 0 to 193467\n",
            "Data columns (total 18 columns):\n",
            " #   Column            Non-Null Count   Dtype \n",
            "---  ------            --------------   ----- \n",
            " 0   id                193468 non-null  int64 \n",
            " 1   inning            193468 non-null  int64 \n",
            " 2   over              193468 non-null  int64 \n",
            " 3   ball              193468 non-null  int64 \n",
            " 4   batsman           193468 non-null  object\n",
            " 5   non_striker       193468 non-null  object\n",
            " 6   bowler            193468 non-null  object\n",
            " 7   batsman_runs      193468 non-null  int64 \n",
            " 8   extra_runs        193468 non-null  int64 \n",
            " 9   total_runs        193468 non-null  int64 \n",
            " 10  non_boundary      193468 non-null  int64 \n",
            " 11  is_wicket         193468 non-null  int64 \n",
            " 12  dismissal_kind    9495 non-null    object\n",
            " 13  player_dismissed  9495 non-null    object\n",
            " 14  fielder           6784 non-null    object\n",
            " 15  extras_type       10233 non-null   object\n",
            " 16  batting_team      193468 non-null  object\n",
            " 17  bowling_team      193277 non-null  object\n",
            "dtypes: int64(9), object(9)\n",
            "memory usage: 26.6+ MB\n"
          ]
        }
      ],
      "source": [
        "data.info()"
      ]
    },
    {
      "cell_type": "code",
      "execution_count": null,
      "metadata": {
        "colab": {
          "base_uri": "https://localhost:8080/"
        },
        "id": "-66bkyq0HmSW",
        "outputId": "6added95-4712-4c18-cebe-07acbf9face6"
      },
      "outputs": [
        {
          "output_type": "execute_result",
          "data": {
            "text/plain": [
              "id                       0\n",
              "inning                   0\n",
              "over                     0\n",
              "ball                     0\n",
              "batsman                  0\n",
              "non_striker              0\n",
              "bowler                   0\n",
              "batsman_runs             0\n",
              "extra_runs               0\n",
              "total_runs               0\n",
              "non_boundary             0\n",
              "is_wicket                0\n",
              "dismissal_kind      183973\n",
              "player_dismissed    183973\n",
              "fielder             186684\n",
              "extras_type         183235\n",
              "batting_team             0\n",
              "bowling_team           191\n",
              "dtype: int64"
            ]
          },
          "metadata": {},
          "execution_count": 5
        }
      ],
      "source": [
        "data.isnull().sum()"
      ]
    },
    {
      "cell_type": "code",
      "execution_count": null,
      "metadata": {
        "colab": {
          "base_uri": "https://localhost:8080/"
        },
        "id": "eKwwLzKNA4Qn",
        "outputId": "f8ebc038-c575-4ace-8310-e367174a95a4"
      },
      "outputs": [
        {
          "output_type": "execute_result",
          "data": {
            "text/plain": [
              "816"
            ]
          },
          "metadata": {},
          "execution_count": 6
        }
      ],
      "source": [
        "len(data['id'].unique())"
      ]
    },
    {
      "cell_type": "markdown",
      "source": [
        "#### Found 2 games which did not have the second inning."
      ],
      "metadata": {
        "id": "Ie-zvZoBPTdb"
      }
    },
    {
      "cell_type": "code",
      "execution_count": null,
      "metadata": {
        "colab": {
          "base_uri": "https://localhost:8080/"
        },
        "id": "pN8uWx28MDw3",
        "outputId": "c344df33-5d82-4694-bd6a-c6768b936cd2"
      },
      "outputs": [
        {
          "output_type": "execute_result",
          "data": {
            "text/plain": [
              "{501265, 829763}"
            ]
          },
          "metadata": {},
          "execution_count": 7
        }
      ],
      "source": [
        "set(data[data['inning']==1]['id'].unique()) - set(data[data['inning']==2]['id'].unique())"
      ]
    },
    {
      "cell_type": "markdown",
      "source": [
        "#### Matches where bowling team was not recorded."
      ],
      "metadata": {
        "id": "tQrGwxRPPy6d"
      }
    },
    {
      "cell_type": "code",
      "execution_count": null,
      "metadata": {
        "colab": {
          "base_uri": "https://localhost:8080/"
        },
        "id": "rfHRvVYtNv02",
        "outputId": "aa79e1fa-2f28-40fe-e7d6-c22a93b2fceb"
      },
      "outputs": [
        {
          "output_type": "execute_result",
          "data": {
            "text/plain": [
              "Royal Challengers Bangalore    128\n",
              "Delhi Daredevils                63\n",
              "Name: batting_team, dtype: int64"
            ]
          },
          "metadata": {},
          "execution_count": 8
        }
      ],
      "source": [
        "data[data['bowling_team'].isnull()]['batting_team'].value_counts()"
      ]
    },
    {
      "cell_type": "markdown",
      "source": [
        "Bowlers of Pune Warriors"
      ],
      "metadata": {
        "id": "GDmGaJRdQMK3"
      }
    },
    {
      "cell_type": "code",
      "execution_count": null,
      "metadata": {
        "colab": {
          "base_uri": "https://localhost:8080/"
        },
        "id": "8y-YecCxN97N",
        "outputId": "8fa1c721-ec23-4076-cd3a-0dcd0e630254"
      },
      "outputs": [
        {
          "output_type": "execute_result",
          "data": {
            "text/plain": [
              "array(['AC Thomas', 'JP Faulkner', 'SS Mundhe', 'MR Marsh', 'R Sharma',\n",
              "       'Yuvraj Singh'], dtype=object)"
            ]
          },
          "metadata": {},
          "execution_count": 9
        }
      ],
      "source": [
        "data[(data['bowling_team'].isnull()) & (data['batting_team']=='Delhi Daredevils')]['bowler'].unique()"
      ]
    },
    {
      "cell_type": "markdown",
      "source": [
        "Bowlers of rajasthan Royals"
      ],
      "metadata": {
        "id": "EK-QA8-qQR5C"
      }
    },
    {
      "cell_type": "code",
      "execution_count": null,
      "metadata": {
        "colab": {
          "base_uri": "https://localhost:8080/"
        },
        "id": "ZdzP3Zs9_-BQ",
        "outputId": "2705b9b9-ee59-47b8-9b98-74c5b3131618"
      },
      "outputs": [
        {
          "output_type": "execute_result",
          "data": {
            "text/plain": [
              "array(['TG Southee', 'DS Kulkarni', 'STR Binny', 'PV Tambe',\n",
              "       'JP Faulkner', 'SR Watson'], dtype=object)"
            ]
          },
          "metadata": {},
          "execution_count": 10
        }
      ],
      "source": [
        "data[(data['bowling_team'].isnull()) & (data['batting_team']=='Royal Challengers Bangalore')]['bowler'].unique()"
      ]
    },
    {
      "cell_type": "markdown",
      "source": [
        "The teams 'Rising Pune Supergiants' and 'Rising Pune Supergiant' are the same."
      ],
      "metadata": {
        "id": "cmtfI0fNQ9WM"
      }
    },
    {
      "cell_type": "code",
      "execution_count": null,
      "metadata": {
        "colab": {
          "base_uri": "https://localhost:8080/"
        },
        "id": "FzU9y3bjJHFZ",
        "outputId": "446b2cf9-7a78-4ca6-bce7-ac1393691d07"
      },
      "outputs": [
        {
          "output_type": "execute_result",
          "data": {
            "text/plain": [
              "array(['AM Rahane', 'F du Plessis', 'KP Pietersen', 'SPD Smith',\n",
              "       'MS Dhoni', 'MR Marsh', 'R Bhatia', 'IK Pathan', 'R Ashwin',\n",
              "       'NLTC Perera', 'M Ashwin', 'Ankit Sharma', 'JA Morkel',\n",
              "       'SS Tiwary', 'PSP Handscomb', 'UT Khawaja', 'GJ Bailey', 'A Zampa'],\n",
              "      dtype=object)"
            ]
          },
          "metadata": {},
          "execution_count": 11
        }
      ],
      "source": [
        "data[data['batting_team']=='Rising Pune Supergiants']['batsman'].unique()"
      ]
    },
    {
      "cell_type": "code",
      "execution_count": null,
      "metadata": {
        "colab": {
          "base_uri": "https://localhost:8080/"
        },
        "id": "PD1VaJCsVgum",
        "outputId": "8f4e1098-4305-440c-e2c1-ebf8ab3aa8bb"
      },
      "outputs": [
        {
          "output_type": "execute_result",
          "data": {
            "text/plain": [
              "array(['AM Rahane', 'MA Agarwal', 'SPD Smith', 'BA Stokes', 'MS Dhoni',\n",
              "       'MK Tiwary', 'DT Christian', 'AB Dinda', 'A Zampa', 'Imran Tahir',\n",
              "       'F du Plessis', 'RA Tripathi', 'R Bhatia', 'DL Chahar',\n",
              "       'LH Ferguson', 'RD Chahar', 'Ankit Sharma', 'SN Thakur',\n",
              "       'JD Unadkat', 'Washington Sundar'], dtype=object)"
            ]
          },
          "metadata": {},
          "execution_count": 12
        }
      ],
      "source": [
        "data[data['batting_team']=='Rising Pune Supergiant']['batsman'].unique()"
      ]
    },
    {
      "cell_type": "markdown",
      "source": [
        "## Finding the categorical and numerical attributes"
      ],
      "metadata": {
        "id": "KaG1JF9wQyEM"
      }
    },
    {
      "cell_type": "code",
      "execution_count": null,
      "metadata": {
        "id": "bO0wrw6cBIju"
      },
      "outputs": [],
      "source": [
        "cat_features = [feature for feature in data.columns if data[feature].dtypes == 'O']\n",
        "num_features = [feature for feature in data.columns if data[feature].dtypes != 'O']"
      ]
    },
    {
      "cell_type": "markdown",
      "source": [
        "Describing numerical attributes"
      ],
      "metadata": {
        "id": "h_FfPj-hQ3p0"
      }
    },
    {
      "cell_type": "code",
      "execution_count": null,
      "metadata": {
        "colab": {
          "base_uri": "https://localhost:8080/",
          "height": 300
        },
        "id": "g5zfe3BjGFWV",
        "outputId": "f551e62f-c9b9-420e-deb7-3b65d02a7fa7"
      },
      "outputs": [
        {
          "output_type": "execute_result",
          "data": {
            "text/plain": [
              "                 id         inning           over           ball  \\\n",
              "count  1.934680e+05  193468.000000  193468.000000  193468.000000   \n",
              "mean   7.567688e+05       1.482131       9.177027       3.615967   \n",
              "std    3.060971e+05       0.499682       5.676848       1.807128   \n",
              "min    3.359820e+05       1.000000       0.000000       1.000000   \n",
              "25%    5.012270e+05       1.000000       4.000000       2.000000   \n",
              "50%    7.292970e+05       1.000000       9.000000       4.000000   \n",
              "75%    1.082628e+06       2.000000      14.000000       5.000000   \n",
              "max    1.237181e+06       2.000000      19.000000       9.000000   \n",
              "\n",
              "        batsman_runs     extra_runs     total_runs   non_boundary  \\\n",
              "count  193468.000000  193468.000000  193468.000000  193468.000000   \n",
              "mean        1.240231       0.066414       1.306645       0.000083   \n",
              "std         1.610867       0.339991       1.598802       0.009094   \n",
              "min         0.000000       0.000000       0.000000       0.000000   \n",
              "25%         0.000000       0.000000       0.000000       0.000000   \n",
              "50%         1.000000       0.000000       1.000000       0.000000   \n",
              "75%         1.000000       0.000000       1.000000       0.000000   \n",
              "max         6.000000       7.000000       7.000000       1.000000   \n",
              "\n",
              "           is_wicket  \n",
              "count  193468.000000  \n",
              "mean        0.049078  \n",
              "std         0.216031  \n",
              "min         0.000000  \n",
              "25%         0.000000  \n",
              "50%         0.000000  \n",
              "75%         0.000000  \n",
              "max         1.000000  "
            ],
            "text/html": [
              "\n",
              "  <div id=\"df-d6889744-b289-43b6-bf59-24fdcf4bbf90\">\n",
              "    <div class=\"colab-df-container\">\n",
              "      <div>\n",
              "<style scoped>\n",
              "    .dataframe tbody tr th:only-of-type {\n",
              "        vertical-align: middle;\n",
              "    }\n",
              "\n",
              "    .dataframe tbody tr th {\n",
              "        vertical-align: top;\n",
              "    }\n",
              "\n",
              "    .dataframe thead th {\n",
              "        text-align: right;\n",
              "    }\n",
              "</style>\n",
              "<table border=\"1\" class=\"dataframe\">\n",
              "  <thead>\n",
              "    <tr style=\"text-align: right;\">\n",
              "      <th></th>\n",
              "      <th>id</th>\n",
              "      <th>inning</th>\n",
              "      <th>over</th>\n",
              "      <th>ball</th>\n",
              "      <th>batsman_runs</th>\n",
              "      <th>extra_runs</th>\n",
              "      <th>total_runs</th>\n",
              "      <th>non_boundary</th>\n",
              "      <th>is_wicket</th>\n",
              "    </tr>\n",
              "  </thead>\n",
              "  <tbody>\n",
              "    <tr>\n",
              "      <th>count</th>\n",
              "      <td>1.934680e+05</td>\n",
              "      <td>193468.000000</td>\n",
              "      <td>193468.000000</td>\n",
              "      <td>193468.000000</td>\n",
              "      <td>193468.000000</td>\n",
              "      <td>193468.000000</td>\n",
              "      <td>193468.000000</td>\n",
              "      <td>193468.000000</td>\n",
              "      <td>193468.000000</td>\n",
              "    </tr>\n",
              "    <tr>\n",
              "      <th>mean</th>\n",
              "      <td>7.567688e+05</td>\n",
              "      <td>1.482131</td>\n",
              "      <td>9.177027</td>\n",
              "      <td>3.615967</td>\n",
              "      <td>1.240231</td>\n",
              "      <td>0.066414</td>\n",
              "      <td>1.306645</td>\n",
              "      <td>0.000083</td>\n",
              "      <td>0.049078</td>\n",
              "    </tr>\n",
              "    <tr>\n",
              "      <th>std</th>\n",
              "      <td>3.060971e+05</td>\n",
              "      <td>0.499682</td>\n",
              "      <td>5.676848</td>\n",
              "      <td>1.807128</td>\n",
              "      <td>1.610867</td>\n",
              "      <td>0.339991</td>\n",
              "      <td>1.598802</td>\n",
              "      <td>0.009094</td>\n",
              "      <td>0.216031</td>\n",
              "    </tr>\n",
              "    <tr>\n",
              "      <th>min</th>\n",
              "      <td>3.359820e+05</td>\n",
              "      <td>1.000000</td>\n",
              "      <td>0.000000</td>\n",
              "      <td>1.000000</td>\n",
              "      <td>0.000000</td>\n",
              "      <td>0.000000</td>\n",
              "      <td>0.000000</td>\n",
              "      <td>0.000000</td>\n",
              "      <td>0.000000</td>\n",
              "    </tr>\n",
              "    <tr>\n",
              "      <th>25%</th>\n",
              "      <td>5.012270e+05</td>\n",
              "      <td>1.000000</td>\n",
              "      <td>4.000000</td>\n",
              "      <td>2.000000</td>\n",
              "      <td>0.000000</td>\n",
              "      <td>0.000000</td>\n",
              "      <td>0.000000</td>\n",
              "      <td>0.000000</td>\n",
              "      <td>0.000000</td>\n",
              "    </tr>\n",
              "    <tr>\n",
              "      <th>50%</th>\n",
              "      <td>7.292970e+05</td>\n",
              "      <td>1.000000</td>\n",
              "      <td>9.000000</td>\n",
              "      <td>4.000000</td>\n",
              "      <td>1.000000</td>\n",
              "      <td>0.000000</td>\n",
              "      <td>1.000000</td>\n",
              "      <td>0.000000</td>\n",
              "      <td>0.000000</td>\n",
              "    </tr>\n",
              "    <tr>\n",
              "      <th>75%</th>\n",
              "      <td>1.082628e+06</td>\n",
              "      <td>2.000000</td>\n",
              "      <td>14.000000</td>\n",
              "      <td>5.000000</td>\n",
              "      <td>1.000000</td>\n",
              "      <td>0.000000</td>\n",
              "      <td>1.000000</td>\n",
              "      <td>0.000000</td>\n",
              "      <td>0.000000</td>\n",
              "    </tr>\n",
              "    <tr>\n",
              "      <th>max</th>\n",
              "      <td>1.237181e+06</td>\n",
              "      <td>2.000000</td>\n",
              "      <td>19.000000</td>\n",
              "      <td>9.000000</td>\n",
              "      <td>6.000000</td>\n",
              "      <td>7.000000</td>\n",
              "      <td>7.000000</td>\n",
              "      <td>1.000000</td>\n",
              "      <td>1.000000</td>\n",
              "    </tr>\n",
              "  </tbody>\n",
              "</table>\n",
              "</div>\n",
              "      <button class=\"colab-df-convert\" onclick=\"convertToInteractive('df-d6889744-b289-43b6-bf59-24fdcf4bbf90')\"\n",
              "              title=\"Convert this dataframe to an interactive table.\"\n",
              "              style=\"display:none;\">\n",
              "        \n",
              "  <svg xmlns=\"http://www.w3.org/2000/svg\" height=\"24px\"viewBox=\"0 0 24 24\"\n",
              "       width=\"24px\">\n",
              "    <path d=\"M0 0h24v24H0V0z\" fill=\"none\"/>\n",
              "    <path d=\"M18.56 5.44l.94 2.06.94-2.06 2.06-.94-2.06-.94-.94-2.06-.94 2.06-2.06.94zm-11 1L8.5 8.5l.94-2.06 2.06-.94-2.06-.94L8.5 2.5l-.94 2.06-2.06.94zm10 10l.94 2.06.94-2.06 2.06-.94-2.06-.94-.94-2.06-.94 2.06-2.06.94z\"/><path d=\"M17.41 7.96l-1.37-1.37c-.4-.4-.92-.59-1.43-.59-.52 0-1.04.2-1.43.59L10.3 9.45l-7.72 7.72c-.78.78-.78 2.05 0 2.83L4 21.41c.39.39.9.59 1.41.59.51 0 1.02-.2 1.41-.59l7.78-7.78 2.81-2.81c.8-.78.8-2.07 0-2.86zM5.41 20L4 18.59l7.72-7.72 1.47 1.35L5.41 20z\"/>\n",
              "  </svg>\n",
              "      </button>\n",
              "      \n",
              "  <style>\n",
              "    .colab-df-container {\n",
              "      display:flex;\n",
              "      flex-wrap:wrap;\n",
              "      gap: 12px;\n",
              "    }\n",
              "\n",
              "    .colab-df-convert {\n",
              "      background-color: #E8F0FE;\n",
              "      border: none;\n",
              "      border-radius: 50%;\n",
              "      cursor: pointer;\n",
              "      display: none;\n",
              "      fill: #1967D2;\n",
              "      height: 32px;\n",
              "      padding: 0 0 0 0;\n",
              "      width: 32px;\n",
              "    }\n",
              "\n",
              "    .colab-df-convert:hover {\n",
              "      background-color: #E2EBFA;\n",
              "      box-shadow: 0px 1px 2px rgba(60, 64, 67, 0.3), 0px 1px 3px 1px rgba(60, 64, 67, 0.15);\n",
              "      fill: #174EA6;\n",
              "    }\n",
              "\n",
              "    [theme=dark] .colab-df-convert {\n",
              "      background-color: #3B4455;\n",
              "      fill: #D2E3FC;\n",
              "    }\n",
              "\n",
              "    [theme=dark] .colab-df-convert:hover {\n",
              "      background-color: #434B5C;\n",
              "      box-shadow: 0px 1px 3px 1px rgba(0, 0, 0, 0.15);\n",
              "      filter: drop-shadow(0px 1px 2px rgba(0, 0, 0, 0.3));\n",
              "      fill: #FFFFFF;\n",
              "    }\n",
              "  </style>\n",
              "\n",
              "      <script>\n",
              "        const buttonEl =\n",
              "          document.querySelector('#df-d6889744-b289-43b6-bf59-24fdcf4bbf90 button.colab-df-convert');\n",
              "        buttonEl.style.display =\n",
              "          google.colab.kernel.accessAllowed ? 'block' : 'none';\n",
              "\n",
              "        async function convertToInteractive(key) {\n",
              "          const element = document.querySelector('#df-d6889744-b289-43b6-bf59-24fdcf4bbf90');\n",
              "          const dataTable =\n",
              "            await google.colab.kernel.invokeFunction('convertToInteractive',\n",
              "                                                     [key], {});\n",
              "          if (!dataTable) return;\n",
              "\n",
              "          const docLinkHtml = 'Like what you see? Visit the ' +\n",
              "            '<a target=\"_blank\" href=https://colab.research.google.com/notebooks/data_table.ipynb>data table notebook</a>'\n",
              "            + ' to learn more about interactive tables.';\n",
              "          element.innerHTML = '';\n",
              "          dataTable['output_type'] = 'display_data';\n",
              "          await google.colab.output.renderOutput(dataTable, element);\n",
              "          const docLink = document.createElement('div');\n",
              "          docLink.innerHTML = docLinkHtml;\n",
              "          element.appendChild(docLink);\n",
              "        }\n",
              "      </script>\n",
              "    </div>\n",
              "  </div>\n",
              "  "
            ]
          },
          "metadata": {},
          "execution_count": 14
        }
      ],
      "source": [
        "data[num_features].describe()"
      ]
    },
    {
      "cell_type": "code",
      "execution_count": null,
      "metadata": {
        "colab": {
          "base_uri": "https://localhost:8080/"
        },
        "id": "ZWWADOSXNM3H",
        "outputId": "c7c30708-35d2-49a5-f45d-4d035dacf3ca"
      },
      "outputs": [
        {
          "output_type": "execute_result",
          "data": {
            "text/plain": [
              "0    183973\n",
              "1      9495\n",
              "Name: is_wicket, dtype: int64"
            ]
          },
          "metadata": {},
          "execution_count": 15
        }
      ],
      "source": [
        "data['is_wicket'].value_counts()"
      ]
    },
    {
      "cell_type": "code",
      "execution_count": null,
      "metadata": {
        "colab": {
          "base_uri": "https://localhost:8080/",
          "height": 175
        },
        "id": "NIWU4rEI6k10",
        "outputId": "947fa711-6a13-4afa-9077-5503e6ddaf20"
      },
      "outputs": [
        {
          "output_type": "execute_result",
          "data": {
            "text/plain": [
              "        batsman non_striker           bowler dismissal_kind player_dismissed  \\\n",
              "count    193468      193468           193468           9495             9495   \n",
              "unique      537         530              420              9              506   \n",
              "top     V Kohli    S Dhawan  Harbhajan Singh         caught        RG Sharma   \n",
              "freq       4609        4593             3451           5743              167   \n",
              "\n",
              "         fielder extras_type    batting_team    bowling_team  \n",
              "count       6784       10233          193468          193277  \n",
              "unique       879           5              15              15  \n",
              "top     MS Dhoni       wides  Mumbai Indians  Mumbai Indians  \n",
              "freq         164        5858           24466           24453  "
            ],
            "text/html": [
              "\n",
              "  <div id=\"df-053761df-ec4a-4088-b34a-0c5fa1b93b37\">\n",
              "    <div class=\"colab-df-container\">\n",
              "      <div>\n",
              "<style scoped>\n",
              "    .dataframe tbody tr th:only-of-type {\n",
              "        vertical-align: middle;\n",
              "    }\n",
              "\n",
              "    .dataframe tbody tr th {\n",
              "        vertical-align: top;\n",
              "    }\n",
              "\n",
              "    .dataframe thead th {\n",
              "        text-align: right;\n",
              "    }\n",
              "</style>\n",
              "<table border=\"1\" class=\"dataframe\">\n",
              "  <thead>\n",
              "    <tr style=\"text-align: right;\">\n",
              "      <th></th>\n",
              "      <th>batsman</th>\n",
              "      <th>non_striker</th>\n",
              "      <th>bowler</th>\n",
              "      <th>dismissal_kind</th>\n",
              "      <th>player_dismissed</th>\n",
              "      <th>fielder</th>\n",
              "      <th>extras_type</th>\n",
              "      <th>batting_team</th>\n",
              "      <th>bowling_team</th>\n",
              "    </tr>\n",
              "  </thead>\n",
              "  <tbody>\n",
              "    <tr>\n",
              "      <th>count</th>\n",
              "      <td>193468</td>\n",
              "      <td>193468</td>\n",
              "      <td>193468</td>\n",
              "      <td>9495</td>\n",
              "      <td>9495</td>\n",
              "      <td>6784</td>\n",
              "      <td>10233</td>\n",
              "      <td>193468</td>\n",
              "      <td>193277</td>\n",
              "    </tr>\n",
              "    <tr>\n",
              "      <th>unique</th>\n",
              "      <td>537</td>\n",
              "      <td>530</td>\n",
              "      <td>420</td>\n",
              "      <td>9</td>\n",
              "      <td>506</td>\n",
              "      <td>879</td>\n",
              "      <td>5</td>\n",
              "      <td>15</td>\n",
              "      <td>15</td>\n",
              "    </tr>\n",
              "    <tr>\n",
              "      <th>top</th>\n",
              "      <td>V Kohli</td>\n",
              "      <td>S Dhawan</td>\n",
              "      <td>Harbhajan Singh</td>\n",
              "      <td>caught</td>\n",
              "      <td>RG Sharma</td>\n",
              "      <td>MS Dhoni</td>\n",
              "      <td>wides</td>\n",
              "      <td>Mumbai Indians</td>\n",
              "      <td>Mumbai Indians</td>\n",
              "    </tr>\n",
              "    <tr>\n",
              "      <th>freq</th>\n",
              "      <td>4609</td>\n",
              "      <td>4593</td>\n",
              "      <td>3451</td>\n",
              "      <td>5743</td>\n",
              "      <td>167</td>\n",
              "      <td>164</td>\n",
              "      <td>5858</td>\n",
              "      <td>24466</td>\n",
              "      <td>24453</td>\n",
              "    </tr>\n",
              "  </tbody>\n",
              "</table>\n",
              "</div>\n",
              "      <button class=\"colab-df-convert\" onclick=\"convertToInteractive('df-053761df-ec4a-4088-b34a-0c5fa1b93b37')\"\n",
              "              title=\"Convert this dataframe to an interactive table.\"\n",
              "              style=\"display:none;\">\n",
              "        \n",
              "  <svg xmlns=\"http://www.w3.org/2000/svg\" height=\"24px\"viewBox=\"0 0 24 24\"\n",
              "       width=\"24px\">\n",
              "    <path d=\"M0 0h24v24H0V0z\" fill=\"none\"/>\n",
              "    <path d=\"M18.56 5.44l.94 2.06.94-2.06 2.06-.94-2.06-.94-.94-2.06-.94 2.06-2.06.94zm-11 1L8.5 8.5l.94-2.06 2.06-.94-2.06-.94L8.5 2.5l-.94 2.06-2.06.94zm10 10l.94 2.06.94-2.06 2.06-.94-2.06-.94-.94-2.06-.94 2.06-2.06.94z\"/><path d=\"M17.41 7.96l-1.37-1.37c-.4-.4-.92-.59-1.43-.59-.52 0-1.04.2-1.43.59L10.3 9.45l-7.72 7.72c-.78.78-.78 2.05 0 2.83L4 21.41c.39.39.9.59 1.41.59.51 0 1.02-.2 1.41-.59l7.78-7.78 2.81-2.81c.8-.78.8-2.07 0-2.86zM5.41 20L4 18.59l7.72-7.72 1.47 1.35L5.41 20z\"/>\n",
              "  </svg>\n",
              "      </button>\n",
              "      \n",
              "  <style>\n",
              "    .colab-df-container {\n",
              "      display:flex;\n",
              "      flex-wrap:wrap;\n",
              "      gap: 12px;\n",
              "    }\n",
              "\n",
              "    .colab-df-convert {\n",
              "      background-color: #E8F0FE;\n",
              "      border: none;\n",
              "      border-radius: 50%;\n",
              "      cursor: pointer;\n",
              "      display: none;\n",
              "      fill: #1967D2;\n",
              "      height: 32px;\n",
              "      padding: 0 0 0 0;\n",
              "      width: 32px;\n",
              "    }\n",
              "\n",
              "    .colab-df-convert:hover {\n",
              "      background-color: #E2EBFA;\n",
              "      box-shadow: 0px 1px 2px rgba(60, 64, 67, 0.3), 0px 1px 3px 1px rgba(60, 64, 67, 0.15);\n",
              "      fill: #174EA6;\n",
              "    }\n",
              "\n",
              "    [theme=dark] .colab-df-convert {\n",
              "      background-color: #3B4455;\n",
              "      fill: #D2E3FC;\n",
              "    }\n",
              "\n",
              "    [theme=dark] .colab-df-convert:hover {\n",
              "      background-color: #434B5C;\n",
              "      box-shadow: 0px 1px 3px 1px rgba(0, 0, 0, 0.15);\n",
              "      filter: drop-shadow(0px 1px 2px rgba(0, 0, 0, 0.3));\n",
              "      fill: #FFFFFF;\n",
              "    }\n",
              "  </style>\n",
              "\n",
              "      <script>\n",
              "        const buttonEl =\n",
              "          document.querySelector('#df-053761df-ec4a-4088-b34a-0c5fa1b93b37 button.colab-df-convert');\n",
              "        buttonEl.style.display =\n",
              "          google.colab.kernel.accessAllowed ? 'block' : 'none';\n",
              "\n",
              "        async function convertToInteractive(key) {\n",
              "          const element = document.querySelector('#df-053761df-ec4a-4088-b34a-0c5fa1b93b37');\n",
              "          const dataTable =\n",
              "            await google.colab.kernel.invokeFunction('convertToInteractive',\n",
              "                                                     [key], {});\n",
              "          if (!dataTable) return;\n",
              "\n",
              "          const docLinkHtml = 'Like what you see? Visit the ' +\n",
              "            '<a target=\"_blank\" href=https://colab.research.google.com/notebooks/data_table.ipynb>data table notebook</a>'\n",
              "            + ' to learn more about interactive tables.';\n",
              "          element.innerHTML = '';\n",
              "          dataTable['output_type'] = 'display_data';\n",
              "          await google.colab.output.renderOutput(dataTable, element);\n",
              "          const docLink = document.createElement('div');\n",
              "          docLink.innerHTML = docLinkHtml;\n",
              "          element.appendChild(docLink);\n",
              "        }\n",
              "      </script>\n",
              "    </div>\n",
              "  </div>\n",
              "  "
            ]
          },
          "metadata": {},
          "execution_count": 16
        }
      ],
      "source": [
        "data[cat_features].describe()"
      ]
    },
    {
      "cell_type": "code",
      "execution_count": null,
      "metadata": {
        "colab": {
          "base_uri": "https://localhost:8080/",
          "height": 548
        },
        "id": "EGsX-LngpW12",
        "outputId": "bc0dfd28-6658-4246-a286-3619726a6108"
      },
      "outputs": [
        {
          "output_type": "display_data",
          "data": {
            "text/plain": [
              "<Figure size 720x576 with 2 Axes>"
            ],
            "image/png": "[encoded data removed]"
          },
          "metadata": {
            "needs_background": "light"
          }
        }
      ],
      "source": [
        "plt.figure(figsize=(10, 8))\n",
        "sns.heatmap(data.corr(), annot=True, square=True, linewidths=1, cmap='mako')\n",
        "plt.show()"
      ]
    },
    {
      "cell_type": "markdown",
      "source": [
        "### Distribuiton of Bowlers and Batsmen"
      ],
      "metadata": {
        "id": "KwAHQJTWRSuY"
      }
    },
    {
      "cell_type": "code",
      "execution_count": null,
      "metadata": {
        "colab": {
          "base_uri": "https://localhost:8080/",
          "height": 357
        },
        "id": "1LU2EZCyzmLC",
        "outputId": "4d019aca-d535-4e4f-b861-41c2e99ec82b"
      },
      "outputs": [
        {
          "output_type": "display_data",
          "data": {
            "text/plain": [
              "<Figure size 432x432 with 1 Axes>"
            ],
            "image/png": "[encoded data removed]"
          },
          "metadata": {}
        }
      ],
      "source": [
        "plt.figure(figsize=(6,6))\n",
        "labels = ['Batsmen', 'Bowlers']\n",
        "plt.pie(list(map(len, [data['batsman'].unique(),data['bowler'].unique()])), labels = labels, autopct='%.0f%%')\n",
        "plt.show()"
      ]
    },
    {
      "cell_type": "markdown",
      "metadata": {
        "id": "689c465f"
      },
      "source": [
        "### Batsman Stats"
      ]
    },
    {
      "cell_type": "code",
      "execution_count": null,
      "metadata": {
        "id": "79ad4bb2"
      },
      "outputs": [],
      "source": [
        "batsman = defaultdict(lambda : 0)\n",
        "batsman_fours = defaultdict(lambda : 0)\n",
        "batsman_sixes = defaultdict(lambda : 0)\n",
        "\n",
        "for i in data.index:\n",
        "    batsman[data.loc[i,'batsman']] += data.loc[i,'batsman_runs']\n",
        "    if data.loc[i,'batsman_runs'] == 4:\n",
        "        batsman_fours[data.loc[i,'batsman']] += 1\n",
        "    if data.loc[i,'batsman_runs'] == 6:\n",
        "        batsman_sixes[data.loc[i,'batsman']] += 1"
      ]
    },
    {
      "cell_type": "code",
      "execution_count": null,
      "metadata": {
        "id": "c75adfe6"
      },
      "outputs": [],
      "source": [
        "batsman_runs = {k: v for k, v in sorted(batsman.items(), key=lambda item: item[1], reverse=True)}\n",
        "batsman_fours = {k: v for k, v in sorted(batsman_fours.items(), key=lambda item: item[1], reverse=True)}\n",
        "batsman_sixes = {k: v for k, v in sorted(batsman_sixes.items(), key=lambda item: item[1], reverse=True)}"
      ]
    },
    {
      "cell_type": "code",
      "execution_count": null,
      "metadata": {
        "id": "c69dd269",
        "outputId": "c20da45f-0b68-4b9c-9c8b-b7ee4885d027",
        "colab": {
          "base_uri": "https://localhost:8080/",
          "height": 418
        }
      },
      "outputs": [
        {
          "output_type": "display_data",
          "data": {
            "text/plain": [
              "<Figure size 1152x432 with 1 Axes>"
            ],
            "image/png": "[encoded data removed]"
          },
          "metadata": {}
        }
      ],
      "source": [
        "sns.barplot(x = list(batsman_runs.keys())[:10], y = list(batsman_runs.values())[:10],palette='hsv')\n",
        "plt.title('Most runs in IPL')\n",
        "plt.xlabel('Player')\n",
        "plt.ylabel('Runs')\n",
        "plt.show()"
      ]
    },
    {
      "cell_type": "code",
      "execution_count": null,
      "metadata": {
        "id": "947563da",
        "outputId": "1d711e21-0644-4ae2-a9ec-409f99b04f11",
        "colab": {
          "base_uri": "https://localhost:8080/",
          "height": 418
        }
      },
      "outputs": [
        {
          "output_type": "display_data",
          "data": {
            "text/plain": [
              "<Figure size 1152x432 with 1 Axes>"
            ],
            "image/png": "[encoded data removed]"
          },
          "metadata": {}
        }
      ],
      "source": [
        "sns.barplot(x = list(batsman_fours.keys())[:10], y = list(batsman_fours.values())[:10],palette='hsv')\n",
        "plt.title('Most fours in IPL')\n",
        "plt.xlabel('Player')\n",
        "plt.ylabel('Fours')\n",
        "plt.show()"
      ]
    },
    {
      "cell_type": "code",
      "execution_count": null,
      "metadata": {
        "id": "a4ddb9e3",
        "outputId": "25f9dfdd-ebd8-45d3-e20c-0e41490bccdb",
        "colab": {
          "base_uri": "https://localhost:8080/",
          "height": 418
        }
      },
      "outputs": [
        {
          "output_type": "display_data",
          "data": {
            "text/plain": [
              "<Figure size 1152x432 with 1 Axes>"
            ],
            "image/png": "[encoded data removed]"
          },
          "metadata": {}
        }
      ],
      "source": [
        "sns.barplot(x = list(batsman_sixes.keys())[:10], y = list(batsman_sixes.values())[:10],palette='hsv')\n",
        "plt.title('Most sixes in IPL')\n",
        "plt.xlabel('Player')\n",
        "plt.ylabel('Sixes')\n",
        "plt.show()"
      ]
    },
    {
      "cell_type": "markdown",
      "metadata": {
        "id": "820f2aa4"
      },
      "source": [
        "### Bowler Stats"
      ]
    },
    {
      "cell_type": "code",
      "execution_count": null,
      "metadata": {
        "id": "6ce5ba34"
      },
      "outputs": [],
      "source": [
        "most_wickets = defaultdict(lambda : 0)\n",
        "most_extras = defaultdict(lambda : 0)\n",
        "#batsman_sixes = defaultdict(lambda : 0)\n",
        "\n",
        "for i in data.index:\n",
        "    most_extras[data.loc[i,'bowler']] += data.loc[i,'extra_runs']\n",
        "    if data.loc[i,'is_wicket'] == 1 and data.loc[i,'dismissal_kind'] not in ['run out', 'retired hurt', 'obstructing the field']:\n",
        "        most_wickets[data.loc[i,'bowler']] += 1"
      ]
    },
    {
      "cell_type": "code",
      "execution_count": null,
      "metadata": {
        "id": "75012258"
      },
      "outputs": [],
      "source": [
        "most_wickets = {k: v for k, v in sorted(most_wickets.items(), key=lambda item: item[1], reverse=True)}\n",
        "most_extras = {k: v for k, v in sorted(most_extras.items(), key=lambda item: item[1], reverse=True)}\n",
        "#batsman_sixes = {k: v for k, v in sorted(batsman_sixes.items(), key=lambda item: item[1], reverse=True)}"
      ]
    },
    {
      "cell_type": "code",
      "execution_count": null,
      "metadata": {
        "id": "dd77c375",
        "outputId": "b7aca84a-4d9a-48f5-ebd2-05e0fe555375",
        "colab": {
          "base_uri": "https://localhost:8080/",
          "height": 418
        }
      },
      "outputs": [
        {
          "output_type": "display_data",
          "data": {
            "text/plain": [
              "<Figure size 1152x432 with 1 Axes>"
            ],
            "image/png": "[encoded data removed]"
          },
          "metadata": {}
        }
      ],
      "source": [
        "sns.barplot(x = list(most_wickets.keys())[:10], y = list(most_wickets.values())[:10],palette='hsv')\n",
        "plt.title('Most wickets in IPL')\n",
        "plt.xlabel('Bowler')\n",
        "plt.ylabel('Number of wickets')\n",
        "plt.show()"
      ]
    },
    {
      "cell_type": "code",
      "execution_count": null,
      "metadata": {
        "id": "a2b080bd",
        "outputId": "5c30a9c3-ed43-4fe5-9780-0221318fd392",
        "colab": {
          "base_uri": "https://localhost:8080/",
          "height": 418
        }
      },
      "outputs": [
        {
          "output_type": "display_data",
          "data": {
            "text/plain": [
              "<Figure size 1152x432 with 1 Axes>"
            ],
            "image/png": "[encoded data removed]"
          },
          "metadata": {}
        }
      ],
      "source": [
        "sns.barplot(x = list(most_extras.keys())[:10], y = list(most_extras.values())[:10],palette='hsv')\n",
        "plt.title('Most extras in IPL')\n",
        "plt.xlabel('Bowler')\n",
        "plt.ylabel('Extra runs')\n",
        "plt.show()"
      ]
    },
    {
      "cell_type": "markdown",
      "metadata": {
        "id": "811456d7"
      },
      "source": [
        "### Fielding Stats"
      ]
    },
    {
      "cell_type": "code",
      "execution_count": null,
      "metadata": {
        "id": "ac083a6c",
        "outputId": "f2b6a371-4d19-410b-e171-65582638362c",
        "colab": {
          "base_uri": "https://localhost:8080/"
        }
      },
      "outputs": [
        {
          "output_type": "execute_result",
          "data": {
            "text/plain": [
              "caught                   5743\n",
              "bowled                   1700\n",
              "run out                   893\n",
              "lbw                       571\n",
              "stumped                   294\n",
              "caught and bowled         269\n",
              "hit wicket                 12\n",
              "retired hurt               11\n",
              "obstructing the field       2\n",
              "Name: dismissal_kind, dtype: int64"
            ]
          },
          "metadata": {},
          "execution_count": 31
        }
      ],
      "source": [
        "data['dismissal_kind'].value_counts()"
      ]
    },
    {
      "cell_type": "code",
      "execution_count": null,
      "metadata": {
        "id": "9321f2ff"
      },
      "outputs": [],
      "source": [
        "most_catches = defaultdict(lambda : 0)\n",
        "most_runouts = defaultdict(lambda : 0)\n",
        "most_stumped = defaultdict(lambda : 0)\n",
        "most_CandB = defaultdict(lambda : 0)\n",
        "\n",
        "for i in data.index:\n",
        "    if data.loc[i,'dismissal_kind'] == 'caught':\n",
        "        most_catches[data.loc[i,'fielder']] += 1\n",
        "    if data.loc[i,'dismissal_kind'] == 'run out' and str(data.loc[i,'fielder']) != 'nan':\n",
        "        most_runouts[data.loc[i,'fielder'].split(',')[0]] += 1\n",
        "    if data.loc[i,'dismissal_kind'] == 'stumped':\n",
        "        most_stumped[data.loc[i,'fielder']] += 1\n",
        "    if data.loc[i,'dismissal_kind'] == 'caught and bowled':\n",
        "        most_CandB[data.loc[i,'bowler']] += 1"
      ]
    },
    {
      "cell_type": "code",
      "execution_count": null,
      "metadata": {
        "id": "f1c2e68d"
      },
      "outputs": [],
      "source": [
        "most_catches = {k: v for k, v in sorted(most_catches.items(), key=lambda item: item[1], reverse=True)}\n",
        "most_runouts = {k: v for k, v in sorted(most_runouts.items(), key=lambda item: item[1], reverse=True)}\n",
        "most_stumped = {k: v for k, v in sorted(most_stumped.items(), key=lambda item: item[1], reverse=True)}\n",
        "most_CandB = {k: v for k, v in sorted(most_CandB.items(), key=lambda item: item[1], reverse=True)}"
      ]
    },
    {
      "cell_type": "code",
      "execution_count": null,
      "metadata": {
        "id": "86e2407f",
        "outputId": "d9c5d357-95c0-46b3-924c-86565f4ce643",
        "colab": {
          "base_uri": "https://localhost:8080/",
          "height": 418
        }
      },
      "outputs": [
        {
          "output_type": "display_data",
          "data": {
            "text/plain": [
              "<Figure size 1152x432 with 1 Axes>"
            ],
            "image/png": "[encoded data removed]"
          },
          "metadata": {}
        }
      ],
      "source": [
        "sns.barplot(x = list(most_catches.keys())[:10], y = list(most_catches.values())[:10],palette='hsv')\n",
        "plt.title('Most catches in IPL')\n",
        "plt.xlabel('Fielder')\n",
        "plt.ylabel('Number of catches')\n",
        "plt.show()"
      ]
    },
    {
      "cell_type": "markdown",
      "metadata": {
        "id": "1b61bee8"
      },
      "source": [
        "**The top 3 fielders in this list are wicket keepers which should have been the case since many of catches are edged and gone to the keeper**"
      ]
    },
    {
      "cell_type": "code",
      "execution_count": null,
      "metadata": {
        "id": "d2c24229",
        "outputId": "3194d302-848f-407f-ca89-9271617e944d",
        "colab": {
          "base_uri": "https://localhost:8080/",
          "height": 418
        }
      },
      "outputs": [
        {
          "output_type": "display_data",
          "data": {
            "text/plain": [
              "<Figure size 1152x432 with 1 Axes>"
            ],
            "image/png": "[encoded data removed]"
          },
          "metadata": {}
        }
      ],
      "source": [
        "sns.barplot(x = list(most_runouts.keys())[:10], y = list(most_runouts.values())[:10],palette='hsv')\n",
        "plt.title('Most runouts in IPL')\n",
        "plt.xlabel('Fielder')\n",
        "plt.ylabel('Number of runouts')\n",
        "plt.show()"
      ]
    },
    {
      "cell_type": "code",
      "execution_count": null,
      "metadata": {
        "id": "d7129a0c",
        "outputId": "c493400d-3453-48ab-8758-25803ead4c48",
        "colab": {
          "base_uri": "https://localhost:8080/",
          "height": 418
        }
      },
      "outputs": [
        {
          "output_type": "display_data",
          "data": {
            "text/plain": [
              "<Figure size 1152x432 with 1 Axes>"
            ],
            "image/png": "[encoded data removed]"
          },
          "metadata": {}
        }
      ],
      "source": [
        "sns.barplot(x = list(most_stumped.keys())[:10], y = list(most_stumped.values())[:10],palette='hsv')\n",
        "plt.title('Most stumpings in IPL')\n",
        "plt.xlabel('Wicket Keeper')\n",
        "plt.ylabel('Number of stumpings')\n",
        "plt.show()"
      ]
    },
    {
      "cell_type": "code",
      "execution_count": null,
      "metadata": {
        "id": "66183a0c",
        "outputId": "099aaad4-5ef9-4a2f-9e86-1833144b061c",
        "colab": {
          "base_uri": "https://localhost:8080/",
          "height": 418
        }
      },
      "outputs": [
        {
          "output_type": "display_data",
          "data": {
            "text/plain": [
              "<Figure size 1152x432 with 1 Axes>"
            ],
            "image/png": "[encoded data removed]"
          },
          "metadata": {}
        }
      ],
      "source": [
        "sns.barplot(x = list(most_CandB.keys())[:10], y = list(most_CandB.values())[:10],palette='hsv')\n",
        "plt.title('Most Caught and Bowled in IPL')\n",
        "plt.xlabel('Bowler')\n",
        "plt.ylabel('Number of C and B')\n",
        "plt.show()"
      ]
    },
    {
      "cell_type": "markdown",
      "source": [
        "## Data Preprocessing"
      ],
      "metadata": {
        "id": "H_8WCKpWBCHN"
      }
    },
    {
      "cell_type": "code",
      "execution_count": null,
      "metadata": {
        "id": "q3rqMZi-5kiN"
      },
      "outputs": [],
      "source": [
        "def data_preprocessing(data):\n",
        "    \n",
        "    for i in data.index:\n",
        "        if(str(data['bowling_team'][i])=='nan' and data['batting_team'][i]=='Delhi Daredevils'):\n",
        "            data['bowling_team'][i] = 'Pune Warriors'\n",
        "        elif(str(data['bowling_team'][i])=='nan' and data['batting_team'][i]=='Royal Challengers Bangalore'):\n",
        "            data['bowling_team'][i] = 'Rajasthan Royals'\n",
        "    \n",
        "    data['batting_team'].replace('Rising Pune Supergiants', 'Rising Pune Supergiant', inplace=True)\n",
        "    data['bowling_team'].replace('Rising Pune Supergiants', 'Rising Pune Supergiant', inplace=True)\n",
        "    \n",
        "    new_dat = data[[\"id\",\"over\",\"inning\",\"total_runs\",\"is_wicket\",\"batting_team\",\"bowling_team\"]]\n",
        "    new_dat = new_dat.drop(new_dat[(new_dat.id == 501265) | (new_dat.id == 829763)].index)\n",
        "\n",
        "    new_dat[\"r_till_10\"] = new_dat[\"total_runs\"]\n",
        "    new_dat[\"w_till_10\"] = new_dat[\"is_wicket\"]\n",
        "    \n",
        "    over = 10\n",
        "    new_dat[\"r_till_10\"].where((new_dat[\"over\"] <= over),0,inplace = True)\n",
        "    new_dat[\"w_till_10\"].where((new_dat[\"over\"] <= over),0,inplace = True)\n",
        "    \n",
        "    new_dat = new_dat.groupby([\"id\",\"inning\",\"batting_team\",\"bowling_team\"],as_index=False)[\"total_runs\",\"r_till_10\",\"w_till_10\"].sum()\n",
        "    \n",
        "    tilo = pd.DataFrame()\n",
        "    ids = new_dat[\"id\"].unique()\n",
        "\n",
        "    for id in ids:\n",
        "      t = new_dat[new_dat[\"id\"]==id]\n",
        "      try:\n",
        "        fin = t.iloc[0,:]\n",
        "        sin = t.iloc[1,:]\n",
        "      except:\n",
        "        print(t)\n",
        "      if(fin[4] > sin[4]):\n",
        "       # tilo = tilo.append({'Team':fin[2],\"opponent\" : fin[3],\"r_till_10\" : fin[5],\"w_till_10\" : fin[6],'bat/bowl':\"first_to_bat\",\"win/loss\":\"win\"}, ignore_index=True)\n",
        "        tilo = tilo.append({'Team':sin[2],\"opponent\" : sin[3],\"r_till_10\" : fin[4]-sin[5],\"w_till_10\" : sin[6],\"r_run_rate\":(fin[4]-sin[5])/(20-over),\"c_run_rate\":(sin[5]/over),\"win/loss\":\"loss\"}, ignore_index=True)\n",
        "      else:\n",
        "      #  tilo = tilo.append({'Team':fin[2],\"opponent\" : fin[3],\"r_till_10\" : fin[5],\"w_till_10\" : fin[6],'bat/bowl':\"first_to_bat\",\"win/loss\":\"loss\"}, ignore_index=True)\n",
        "        tilo = tilo.append({'Team':sin[2],\"opponent\" : sin[3],\"r_till_10\" : fin[4]-sin[5],\"w_till_10\" : sin[6],\"r_run_rate\":(fin[4]-sin[5])/(20-over),\"c_run_rate\":(sin[5]/over),\"win/loss\":\"win\"}, ignore_index=True)\n",
        "        \n",
        "    tilo = pd.get_dummies(tilo,columns = ['Team','opponent'])\n",
        "    return tilo"
      ]
    },
    {
      "cell_type": "code",
      "execution_count": null,
      "metadata": {
        "id": "utnxZoqy83eR"
      },
      "outputs": [],
      "source": [
        "cleaned_data = data_preprocessing(data)\n",
        "X = cleaned_data.drop('win/loss',axis=1)\n",
        "y = cleaned_data['win/loss']\n",
        "    \n",
        "X_train, X_test, y_train, y_test = train_test_split(X, y, test_size = 0.2, random_state = 42)  "
      ]
    },
    {
      "cell_type": "markdown",
      "metadata": {
        "id": "jXn4X8vLpPB2"
      },
      "source": [
        "## Models with hyperparameter tuning"
      ]
    },
    {
      "cell_type": "markdown",
      "source": [
        "### Random Search"
      ],
      "metadata": {
        "id": "l16QLCvl-iTl"
      }
    },
    {
      "cell_type": "markdown",
      "metadata": {
        "id": "5QCteo2tpWH7"
      },
      "source": [
        "#### Logistic regression"
      ]
    },
    {
      "cell_type": "code",
      "execution_count": null,
      "metadata": {
        "id": "6hUojZNOpfLJ"
      },
      "outputs": [],
      "source": [
        "fin_pipe =  Pipeline(steps=([\"scalling\",StandardScaler()],[\"classifier\",LogisticRegression()]))\n",
        "classifier_param_grid = { \n",
        "                         \"classifier__penalty\" : ['l1', 'l2', 'elasticnet'],\n",
        "                         \"classifier__dual\":[True, False],\n",
        "                         \"classifier__solver\":['newton-cg', 'lbfgs', 'liblinear', 'sag','saga'],\n",
        "                         \"classifier__penalty\":['l2'],\n",
        "                         \"classifier__C\":[10, 1.0, 0.1, 0.01, 0.001]    \n",
        "                        }\n",
        "Randomcv = RandomizedSearchCV(estimator=fin_pipe,param_distributions=classifier_param_grid,scoring=\"accuracy\",cv=5)"
      ]
    },
    {
      "cell_type": "code",
      "execution_count": null,
      "metadata": {
        "colab": {
          "base_uri": "https://localhost:8080/"
        },
        "id": "ZnxAqYvUpfRV",
        "outputId": "0d9d477c-106f-4892-b8c9-257267c5adc0"
      },
      "outputs": [
        {
          "output_type": "stream",
          "name": "stdout",
          "text": [
            "BEST SCORE: 0.7757369348209042\n",
            "VALIDATION_SCORE: 0.8404907975460123\n",
            "\n",
            "\n",
            "BEST CLASSIFIER: Pipeline(steps=[('scalling', StandardScaler()),\n",
            "                ['classifier',\n",
            "                 LogisticRegression(C=0.001, solver='liblinear')]])\n"
          ]
        }
      ],
      "source": [
        "Randomcv.fit(X_train,y_train)\n",
        "print(f\"BEST SCORE: {Randomcv.best_score_}\")\n",
        "final_classifier_1 = Randomcv.best_estimator_\n",
        "print(f\"VALIDATION_SCORE: {final_classifier_1.score(X_test,y_test)}\")\n",
        "print(f\"\\n\\nBEST CLASSIFIER: {final_classifier_1}\")"
      ]
    },
    {
      "cell_type": "markdown",
      "source": [
        "#### KNN"
      ],
      "metadata": {
        "id": "tMhUnohrMXsU"
      }
    },
    {
      "cell_type": "code",
      "execution_count": null,
      "metadata": {
        "id": "pJHzkLMYK4L5"
      },
      "outputs": [],
      "source": [
        "fin_pipe =  Pipeline(steps=([\"scaling\",StandardScaler()],[\"classifier\",KNeighborsClassifier()]))\n",
        "classifier_param_grid = {\n",
        "                         'classifier__n_neighbors' : range(5,30,1),\n",
        "                         'classifier__weights' : ['uniform','distance'],\n",
        "                         'classifier__metric' : ['minkowski','euclidean','manhattan'],\n",
        "                         'classifier__algorithm' : ['ball_tree', 'kd_tree', 'brute']\n",
        "                        }\n",
        "Randomcv = RandomizedSearchCV(fin_pipe,classifier_param_grid,scoring=\"accuracy\",cv=5)"
      ]
    },
    {
      "cell_type": "code",
      "execution_count": null,
      "metadata": {
        "colab": {
          "base_uri": "https://localhost:8080/"
        },
        "outputId": "4f2bf3ae-b12b-4509-e96a-d60daf64df29",
        "id": "N8tGEWf5K4L7"
      },
      "outputs": [
        {
          "output_type": "stream",
          "name": "stdout",
          "text": [
            "BEST SCORE: 0.7603405754550793\n",
            "VALIDATION_SCORE: 0.7914110429447853\n",
            "\n",
            "\n",
            "BEST CLASSIFIER: Pipeline(steps=[('scaling', StandardScaler()),\n",
            "                ['classifier',\n",
            "                 KNeighborsClassifier(algorithm='brute', metric='manhattan',\n",
            "                                      n_neighbors=25)]])\n"
          ]
        }
      ],
      "source": [
        "Randomcv.fit(X_train,y_train)\n",
        "print(f\"BEST SCORE: {Randomcv.best_score_}\")\n",
        "final_classifier_1 = Randomcv.best_estimator_\n",
        "print(f\"VALIDATION_SCORE: {final_classifier_1.score(X_test,y_test)}\")\n",
        "print(f\"\\n\\nBEST CLASSIFIER: {final_classifier_1}\")"
      ]
    },
    {
      "cell_type": "markdown",
      "source": [
        "#### SVC"
      ],
      "metadata": {
        "id": "xDAtI9SAMZ-u"
      }
    },
    {
      "cell_type": "code",
      "execution_count": null,
      "metadata": {
        "id": "yKdHP-DGgBan"
      },
      "outputs": [],
      "source": [
        "fin_pipe =  Pipeline(steps=([\"scaling\",StandardScaler()],[\"classifier\",SVC()]))\n",
        "params = {\n",
        "        'classifier__C': [0.1, 1, 10, 100, 1000],\n",
        "        'classifier__gamma': [1, 0.1, 0.01, 0.001, 0.0001],\n",
        "        'classifier__kernel': ['rbf', 'linear', 'poly', 'sigmoid', 'precomputed'],\n",
        "        'classifier__degree' : [1,2,3,4],\n",
        "        'classifier__shrinking' : [True, False]\n",
        "         }\n",
        "Randomcv = RandomizedSearchCV(fin_pipe,params,scoring=\"accuracy\",cv=5)"
      ]
    },
    {
      "cell_type": "code",
      "execution_count": null,
      "metadata": {
        "colab": {
          "base_uri": "https://localhost:8080/"
        },
        "id": "M4LxtgRlhjxE",
        "outputId": "a0755b4b-3c02-4e9f-db24-3e25495a426e"
      },
      "outputs": [
        {
          "output_type": "stream",
          "name": "stdout",
          "text": [
            "BEST SCORE: 0.76190252495596\n",
            "VALIDATION_SCORE: 0.8220858895705522\n",
            "\n",
            "\n",
            "BEST CLASSIFIER: Pipeline(steps=[('scaling', StandardScaler()),\n",
            "                ['classifier', SVC(C=100, gamma=0.001)]])\n"
          ]
        }
      ],
      "source": [
        "Randomcv.fit(X_train,y_train)\n",
        "print(f\"BEST SCORE: {Randomcv.best_score_}\")\n",
        "final_classifier_1 = Randomcv.best_estimator_\n",
        "print(f\"VALIDATION_SCORE: {final_classifier_1.score(X_test,y_test)}\")\n",
        "print(f\"\\n\\nBEST CLASSIFIER: {final_classifier_1}\")"
      ]
    },
    {
      "cell_type": "markdown",
      "source": [
        "#### Decision Tree"
      ],
      "metadata": {
        "id": "9ppRre1ZMT9X"
      }
    },
    {
      "cell_type": "code",
      "execution_count": null,
      "metadata": {
        "id": "C4oN6hJFKuWx"
      },
      "outputs": [],
      "source": [
        "fin_pipe =  Pipeline(steps=([\"scaling\",StandardScaler()],[\"classifier\",DecisionTreeClassifier(random_state=11)]))\n",
        "classifier_param_grid = {\n",
        "                        \"classifier__criterion\":[\"gini\",\"entropy\"],\n",
        "                        \"classifier__max_depth\":np.arange(1,21,2),\n",
        "                        \"classifier__min_samples_split\":np.arange(11,31,3),\n",
        "                        \"classifier__min_samples_leaf\":np.arange(1,10,2)\n",
        "                        }\n",
        "Randomcv = RandomizedSearchCV(fin_pipe,classifier_param_grid,scoring=\"accuracy\",cv=5)"
      ]
    },
    {
      "cell_type": "code",
      "execution_count": null,
      "metadata": {
        "colab": {
          "base_uri": "https://localhost:8080/"
        },
        "outputId": "eaa67914-facb-4c9f-eb22-8ba2cc20eff7",
        "id": "WuouHEDCKuW2"
      },
      "outputs": [
        {
          "output_type": "stream",
          "name": "stdout",
          "text": [
            "BEST SCORE: 0.7588490898414563\n",
            "VALIDATION_SCORE: 0.8098159509202454\n",
            "\n",
            "\n",
            "BEST CLASSIFIER: Pipeline(steps=[('scaling', StandardScaler()),\n",
            "                ['classifier',\n",
            "                 DecisionTreeClassifier(criterion='entropy', max_depth=1,\n",
            "                                        min_samples_split=26,\n",
            "                                        random_state=11)]])\n"
          ]
        }
      ],
      "source": [
        "Randomcv.fit(X_train,y_train)\n",
        "print(f\"BEST SCORE: {Randomcv.best_score_}\")\n",
        "final_classifier_1 = Randomcv.best_estimator_\n",
        "print(f\"VALIDATION_SCORE: {final_classifier_1.score(X_test,y_test)}\")\n",
        "print(f\"\\n\\nBEST CLASSIFIER: {final_classifier_1}\")"
      ]
    },
    {
      "cell_type": "markdown",
      "metadata": {
        "id": "WljT5WqtpTHk"
      },
      "source": [
        "#### Random forest"
      ]
    },
    {
      "cell_type": "code",
      "execution_count": null,
      "metadata": {
        "id": "vagGl0yJ8__I"
      },
      "outputs": [],
      "source": [
        "fin_pipe =  Pipeline(steps=([\"scalling\",StandardScaler()],[\"classifier\",RandomForestClassifier(random_state=11)]))\n",
        "classifier_param_grid = {\n",
        "                        \"classifier__criterion\":[\"gini\",\"entropy\"],\n",
        "                        \"classifier__n_estimators\":np.arange(50,1200,500),\n",
        "                        \"classifier__min_samples_split\":np.arange(2,21,3),\n",
        "                        \"classifier__min_samples_leaf\":np.arange(1,10,2)\n",
        "                        }\n",
        "Randomcv = RandomizedSearchCV(estimator=fin_pipe,param_distributions=classifier_param_grid,scoring=\"accuracy\",cv=5)"
      ]
    },
    {
      "cell_type": "code",
      "execution_count": null,
      "metadata": {
        "colab": {
          "base_uri": "https://localhost:8080/"
        },
        "id": "-ufmY6nV9Abx",
        "outputId": "55c9d4da-859a-47a4-d96e-de19f1a9cae9"
      },
      "outputs": [
        {
          "output_type": "stream",
          "name": "stdout",
          "text": [
            "BEST SCORE: 0.7726482677627715\n",
            "VALIDATION_SCORE: 0.8343558282208589\n",
            "\n",
            "\n",
            "BEST CLASSIFIER: Pipeline(steps=[('scalling', StandardScaler()),\n",
            "                ['classifier',\n",
            "                 RandomForestClassifier(criterion='entropy', min_samples_leaf=5,\n",
            "                                        min_samples_split=8, n_estimators=50,\n",
            "                                        random_state=11)]])\n"
          ]
        }
      ],
      "source": [
        "Randomcv.fit(X_train,y_train)\n",
        "print(f\"BEST SCORE: {Randomcv.best_score_}\")\n",
        "final_classifier_1 = Randomcv.best_estimator_\n",
        "print(f\"VALIDATION_SCORE: {final_classifier_1.score(X_test,y_test)}\")\n",
        "print(f\"\\n\\nBEST CLASSIFIER: {final_classifier_1}\")"
      ]
    },
    {
      "cell_type": "markdown",
      "metadata": {
        "id": "wGKWoF1QpuVL"
      },
      "source": [
        "### Grid Search"
      ]
    },
    {
      "cell_type": "markdown",
      "metadata": {
        "id": "prUQK4KCp1rf"
      },
      "source": [
        "#### Logistic regression"
      ]
    },
    {
      "cell_type": "code",
      "execution_count": null,
      "metadata": {
        "id": "6GzOaccmZfNG"
      },
      "outputs": [],
      "source": [
        "fin_pipe =  Pipeline(steps=([\"scaling\",StandardScaler()],[\"classifier\",LogisticRegression()]))\n",
        "classifier_param_grid = { \n",
        "                         \"classifier__penalty\" : ['l1', 'l2', 'elasticnet'],\n",
        "                         \"classifier__dual\":[True, False],\n",
        "                         \"classifier__solver\":['newton-cg', 'lbfgs', 'liblinear', 'sag','saga'],\n",
        "                         \"classifier__C\":[10, 1.0, 0.1, 0.01, 0.001]    \n",
        "                        }\n",
        "Gridcv = GridSearchCV(estimator=fin_pipe,param_grid=classifier_param_grid,scoring=\"accuracy\",cv=5)"
      ]
    },
    {
      "cell_type": "code",
      "execution_count": null,
      "metadata": {
        "colab": {
          "base_uri": "https://localhost:8080/"
        },
        "id": "qECO7T2QdaXG",
        "outputId": "685fc872-24bd-477c-a411-802d3fd0ec74"
      },
      "outputs": [
        {
          "output_type": "stream",
          "name": "stdout",
          "text": [
            "BEST SCORE: 0.7803405754550792\n",
            "VALIDATION_SCORE: 0.8159509202453987\n",
            "\n",
            "\n",
            "BEST CLASSIFIER: Pipeline(steps=[('scaling', StandardScaler()),\n",
            "                ['classifier',\n",
            "                 LogisticRegression(C=0.1, penalty='l1', solver='liblinear')]])\n"
          ]
        }
      ],
      "source": [
        "Gridcv.fit(X_train,y_train)\n",
        "print(f\"BEST SCORE: {Gridcv.best_score_}\")\n",
        "final_classifier_1 = Gridcv.best_estimator_\n",
        "print(f\"VALIDATION_SCORE: {final_classifier_1.score(X_test,y_test)}\")\n",
        "print(f\"\\n\\nBEST CLASSIFIER: {final_classifier_1}\")"
      ]
    },
    {
      "cell_type": "markdown",
      "source": [
        "#### KNN"
      ],
      "metadata": {
        "id": "2JG7h7R5L47i"
      }
    },
    {
      "cell_type": "code",
      "execution_count": null,
      "metadata": {
        "id": "mK_Q_8FODam4"
      },
      "outputs": [],
      "source": [
        "fin_pipe =  Pipeline(steps=([\"scaling\",StandardScaler()],[\"classifier\",KNeighborsClassifier()]))\n",
        "params = {\n",
        "          'classifier__n_neighbors' : range(5,30,5),\n",
        "          'classifier__weights' : ['uniform','distance'],\n",
        "          'classifier__metric' : ['minkowski','euclidean','manhattan'],\n",
        "          'classifier__algorithm' : ['ball_tree', 'kd_tree', 'brute']\n",
        "         }\n",
        "Gridcv = GridSearchCV(fin_pipe,params,scoring=\"accuracy\",cv=5)"
      ]
    },
    {
      "cell_type": "code",
      "execution_count": null,
      "metadata": {
        "colab": {
          "base_uri": "https://localhost:8080/"
        },
        "id": "-1gciQ3uDnI9",
        "outputId": "20a9d027-4a0e-45f9-d477-ffb27d76b55e"
      },
      "outputs": [
        {
          "output_type": "stream",
          "name": "stdout",
          "text": [
            "BEST SCORE: 0.7603405754550793\n",
            "VALIDATION_SCORE: 0.7914110429447853\n",
            "\n",
            "\n",
            "BEST CLASSIFIER: Pipeline(steps=[('scaling', StandardScaler()),\n",
            "                ['classifier',\n",
            "                 KNeighborsClassifier(algorithm='ball_tree', metric='manhattan',\n",
            "                                      n_neighbors=25)]])\n"
          ]
        }
      ],
      "source": [
        "Gridcv.fit(X_train,y_train)\n",
        "print(f\"BEST SCORE: {Gridcv.best_score_}\")\n",
        "final_classifier_1 = Gridcv.best_estimator_\n",
        "print(f\"VALIDATION_SCORE: {final_classifier_1.score(X_test,y_test)}\")\n",
        "print(f\"\\n\\nBEST CLASSIFIER: {final_classifier_1}\")"
      ]
    },
    {
      "cell_type": "markdown",
      "source": [
        "#### SVC"
      ],
      "metadata": {
        "id": "F92BDnHBL-1_"
      }
    },
    {
      "cell_type": "code",
      "execution_count": null,
      "metadata": {
        "id": "onImM4nBiJJj"
      },
      "outputs": [],
      "source": [
        "fin_pipe =  Pipeline(steps=([\"scaling\",StandardScaler()],[\"classifier\",SVC()]))\n",
        "params = {\n",
        "          'classifier__C': [100, 1000],\n",
        "          'classifier__gamma': [0.001, 0.0001],\n",
        "          'classifier__kernel': ['rbf', 'linear', 'poly', 'sigmoid'],\n",
        "          'classifier__degree' : [2,3,4],\n",
        "         }\n",
        "Gridcv = GridSearchCV(fin_pipe,params,scoring=\"accuracy\", n_jobs= -1, cv=3)"
      ]
    },
    {
      "cell_type": "code",
      "execution_count": null,
      "metadata": {
        "colab": {
          "base_uri": "https://localhost:8080/"
        },
        "id": "SUjtEMVyiwf8",
        "outputId": "cd081e0c-1943-42d5-cea2-dfc4f6b5d9cf"
      },
      "outputs": [
        {
          "output_type": "stream",
          "name": "stdout",
          "text": [
            "BEST SCORE: 0.7603686635944701\n",
            "VALIDATION_SCORE: 0.8343558282208589\n",
            "\n",
            "\n",
            "BEST CLASSIFIER: Pipeline(steps=[('scaling', StandardScaler()),\n",
            "                ['classifier', SVC(C=100, degree=2, gamma=0.0001)]])\n"
          ]
        }
      ],
      "source": [
        "Gridcv.fit(X_train,y_train)\n",
        "print(f\"BEST SCORE: {Gridcv.best_score_}\")\n",
        "final_classifier_1 = Gridcv.best_estimator_\n",
        "print(f\"VALIDATION_SCORE: {final_classifier_1.score(X_test,y_test)}\")\n",
        "print(f\"\\n\\nBEST CLASSIFIER: {final_classifier_1}\")"
      ]
    },
    {
      "cell_type": "markdown",
      "source": [
        "#### Decision Tree"
      ],
      "metadata": {
        "id": "MGSpk7o-L1_h"
      }
    },
    {
      "cell_type": "code",
      "execution_count": null,
      "metadata": {
        "id": "9bFeFt8xCCLU"
      },
      "outputs": [],
      "source": [
        "fin_pipe =  Pipeline(steps=([\"scaling\",StandardScaler()],[\"classifier\",DecisionTreeClassifier(random_state=11)]))\n",
        "classifier_param_grid = {\n",
        "                        \"classifier__criterion\":[\"gini\",\"entropy\"],\n",
        "                        \"classifier__max_depth\":np.arange(1,21,5),\n",
        "                        \"classifier__min_samples_split\":np.arange(10,31,5),\n",
        "                        \"classifier__min_samples_leaf\":np.arange(1,10,4)\n",
        "                        }\n",
        "Gridcv = GridSearchCV(fin_pipe,classifier_param_grid,scoring=\"accuracy\",cv=5)"
      ]
    },
    {
      "cell_type": "code",
      "execution_count": null,
      "metadata": {
        "colab": {
          "base_uri": "https://localhost:8080/"
        },
        "id": "oVfCqMf4CRVE",
        "outputId": "dd08c18d-3324-46c3-dd72-25b0519afbb4"
      },
      "outputs": [
        {
          "output_type": "stream",
          "name": "stdout",
          "text": [
            "BEST SCORE: 0.7588490898414563\n",
            "VALIDATION_SCORE: 0.8098159509202454\n",
            "\n",
            "\n",
            "BEST CLASSIFIER: Pipeline(steps=[('scaling', StandardScaler()),\n",
            "                ['classifier',\n",
            "                 DecisionTreeClassifier(max_depth=1, min_samples_split=10,\n",
            "                                        random_state=11)]])\n"
          ]
        }
      ],
      "source": [
        "Gridcv.fit(X_train,y_train)\n",
        "print(f\"BEST SCORE: {Gridcv.best_score_}\")\n",
        "final_classifier_1 = Gridcv.best_estimator_\n",
        "print(f\"VALIDATION_SCORE: {final_classifier_1.score(X_test,y_test)}\")\n",
        "print(f\"\\n\\nBEST CLASSIFIER: {final_classifier_1}\")"
      ]
    },
    {
      "cell_type": "markdown",
      "metadata": {
        "id": "31O7Gt8Dpv5c"
      },
      "source": [
        "#### Random forest"
      ]
    },
    {
      "cell_type": "code",
      "execution_count": null,
      "metadata": {
        "id": "jW7OaSK2pp2-"
      },
      "outputs": [],
      "source": [
        "fin_pipe =  Pipeline(steps=([\"scalling\",StandardScaler()],[\"classifier\",RandomForestClassifier(random_state=11)]))\n",
        "classifier_param_grid = { \n",
        "                        \"classifier__criterion\":[\"gini\",\"entropy\"],\n",
        "                        \"classifier__n_estimators\":np.arange(200,1000,200),\n",
        "                        \"classifier__min_samples_split\":np.arange(10,21,3),\n",
        "                        \"classifier__min_samples_leaf\":np.arange(1,10,3)\n",
        "                        }\n",
        "Gridcv = GridSearchCV(estimator=fin_pipe,param_grid=classifier_param_grid,scoring=\"accuracy\",cv=5)"
      ]
    },
    {
      "cell_type": "code",
      "execution_count": null,
      "metadata": {
        "colab": {
          "base_uri": "https://localhost:8080/"
        },
        "id": "7ApIcwHBptev",
        "outputId": "7b6be636-193c-4906-f483-a3d81d5e6322"
      },
      "outputs": [
        {
          "output_type": "stream",
          "name": "stdout",
          "text": [
            "BEST SCORE: 0.775713446858485\n",
            "VALIDATION_SCORE: 0.8282208588957055\n",
            "\n",
            "\n",
            "BEST CLASSIFIER: Pipeline(steps=[('scalling', StandardScaler()),\n",
            "                ['classifier',\n",
            "                 RandomForestClassifier(criterion='entropy', min_samples_leaf=4,\n",
            "                                        min_samples_split=10, n_estimators=200,\n",
            "                                        random_state=11)]])\n"
          ]
        }
      ],
      "source": [
        "Gridcv.fit(X_train,y_train)\n",
        "print(f\"BEST SCORE: {Gridcv.best_score_}\")\n",
        "final_classifier_1 = Gridcv.best_estimator_\n",
        "print(f\"VALIDATION_SCORE: {final_classifier_1.score(X_test,y_test)}\")\n",
        "print(f\"\\n\\nBEST CLASSIFIER: {final_classifier_1}\")"
      ]
    },
    {
      "cell_type": "markdown",
      "source": [
        "### Manual Search"
      ],
      "metadata": {
        "id": "vPAI0KNhAWll"
      }
    },
    {
      "cell_type": "markdown",
      "source": [
        "#### ANN"
      ],
      "metadata": {
        "id": "dUAgsHAIAQaj"
      }
    },
    {
      "cell_type": "code",
      "execution_count": null,
      "metadata": {
        "id": "zipAw_24edWN"
      },
      "outputs": [],
      "source": [
        "y_train = y_train.map(lambda x:1 if x=='win' else 0)\n",
        "y_test = y_test.map(lambda x:1 if x=='win' else 0)"
      ]
    },
    {
      "cell_type": "code",
      "execution_count": null,
      "metadata": {
        "colab": {
          "base_uri": "https://localhost:8080/",
          "height": 1000
        },
        "id": "wvf54ko4ij3J",
        "outputId": "c6020dc4-0bdc-4d29-fc28-3c6321dba0e4"
      },
      "outputs": [
        {
          "output_type": "stream",
          "name": "stdout",
          "text": [
            "Epoch 1/200\n",
            "6/6 [==============================] - 1s 52ms/step - loss: 0.6633 - binary_accuracy: 0.6114 - val_loss: 1.4793 - val_binary_accuracy: 0.5031\n",
            "Epoch 2/200\n",
            "6/6 [==============================] - 0s 8ms/step - loss: 0.6400 - binary_accuracy: 0.6359 - val_loss: 1.0012 - val_binary_accuracy: 0.5706\n",
            "Epoch 3/200\n",
            "6/6 [==============================] - 0s 8ms/step - loss: 0.6215 - binary_accuracy: 0.6482 - val_loss: 0.7651 - val_binary_accuracy: 0.6135\n",
            "Epoch 4/200\n",
            "6/6 [==============================] - 0s 13ms/step - loss: 0.6105 - binary_accuracy: 0.6682 - val_loss: 0.6576 - val_binary_accuracy: 0.6503\n",
            "Epoch 5/200\n",
            "6/6 [==============================] - 0s 12ms/step - loss: 0.5984 - binary_accuracy: 0.6774 - val_loss: 0.5995 - val_binary_accuracy: 0.6748\n",
            "Epoch 6/200\n",
            "6/6 [==============================] - 0s 8ms/step - loss: 0.5890 - binary_accuracy: 0.6790 - val_loss: 0.5717 - val_binary_accuracy: 0.6810\n",
            "Epoch 7/200\n",
            "6/6 [==============================] - 0s 8ms/step - loss: 0.5727 - binary_accuracy: 0.6851 - val_loss: 0.5483 - val_binary_accuracy: 0.6748\n",
            "Epoch 8/200\n",
            "6/6 [==============================] - 0s 8ms/step - loss: 0.5662 - binary_accuracy: 0.6897 - val_loss: 0.5291 - val_binary_accuracy: 0.6933\n",
            "Epoch 9/200\n",
            "6/6 [==============================] - 0s 7ms/step - loss: 0.5587 - binary_accuracy: 0.7005 - val_loss: 0.5198 - val_binary_accuracy: 0.6994\n",
            "Epoch 10/200\n",
            "6/6 [==============================] - 0s 7ms/step - loss: 0.5493 - binary_accuracy: 0.7112 - val_loss: 0.5084 - val_binary_accuracy: 0.7178\n",
            "Epoch 11/200\n",
            "6/6 [==============================] - 0s 7ms/step - loss: 0.5428 - binary_accuracy: 0.7266 - val_loss: 0.4961 - val_binary_accuracy: 0.7301\n",
            "Epoch 12/200\n",
            "6/6 [==============================] - 0s 7ms/step - loss: 0.5355 - binary_accuracy: 0.7174 - val_loss: 0.4875 - val_binary_accuracy: 0.7423\n",
            "Epoch 13/200\n",
            "6/6 [==============================] - 0s 7ms/step - loss: 0.5289 - binary_accuracy: 0.7450 - val_loss: 0.4799 - val_binary_accuracy: 0.7485\n",
            "Epoch 14/200\n",
            "6/6 [==============================] - 0s 7ms/step - loss: 0.5180 - binary_accuracy: 0.7296 - val_loss: 0.4717 - val_binary_accuracy: 0.7546\n",
            "Epoch 15/200\n",
            "6/6 [==============================] - 0s 8ms/step - loss: 0.5153 - binary_accuracy: 0.7250 - val_loss: 0.4622 - val_binary_accuracy: 0.7669\n",
            "Epoch 16/200\n",
            "6/6 [==============================] - 0s 9ms/step - loss: 0.5076 - binary_accuracy: 0.7481 - val_loss: 0.4537 - val_binary_accuracy: 0.7669\n",
            "Epoch 17/200\n",
            "6/6 [==============================] - 0s 8ms/step - loss: 0.5086 - binary_accuracy: 0.7496 - val_loss: 0.4452 - val_binary_accuracy: 0.7791\n",
            "Epoch 18/200\n",
            "6/6 [==============================] - 0s 7ms/step - loss: 0.4973 - binary_accuracy: 0.7604 - val_loss: 0.4389 - val_binary_accuracy: 0.7853\n",
            "Epoch 19/200\n",
            "6/6 [==============================] - 0s 6ms/step - loss: 0.4983 - binary_accuracy: 0.7435 - val_loss: 0.4357 - val_binary_accuracy: 0.7791\n",
            "Epoch 20/200\n",
            "6/6 [==============================] - 0s 6ms/step - loss: 0.4909 - binary_accuracy: 0.7573 - val_loss: 0.4294 - val_binary_accuracy: 0.7791\n",
            "Epoch 21/200\n",
            "6/6 [==============================] - 0s 7ms/step - loss: 0.4874 - binary_accuracy: 0.7711 - val_loss: 0.4267 - val_binary_accuracy: 0.7791\n",
            "Epoch 22/200\n",
            "6/6 [==============================] - 0s 10ms/step - loss: 0.4819 - binary_accuracy: 0.7680 - val_loss: 0.4204 - val_binary_accuracy: 0.7853\n",
            "Epoch 23/200\n",
            "6/6 [==============================] - 0s 7ms/step - loss: 0.4781 - binary_accuracy: 0.7696 - val_loss: 0.4155 - val_binary_accuracy: 0.8037\n",
            "Epoch 24/200\n",
            "6/6 [==============================] - 0s 12ms/step - loss: 0.4734 - binary_accuracy: 0.7834 - val_loss: 0.4122 - val_binary_accuracy: 0.8098\n",
            "Epoch 25/200\n",
            "6/6 [==============================] - 0s 7ms/step - loss: 0.4714 - binary_accuracy: 0.7727 - val_loss: 0.4096 - val_binary_accuracy: 0.8037\n",
            "Epoch 26/200\n",
            "6/6 [==============================] - 0s 10ms/step - loss: 0.4729 - binary_accuracy: 0.7742 - val_loss: 0.4055 - val_binary_accuracy: 0.8160\n",
            "Epoch 27/200\n",
            "6/6 [==============================] - 0s 10ms/step - loss: 0.4661 - binary_accuracy: 0.7849 - val_loss: 0.4026 - val_binary_accuracy: 0.8160\n",
            "Epoch 28/200\n",
            "6/6 [==============================] - 0s 7ms/step - loss: 0.4670 - binary_accuracy: 0.7757 - val_loss: 0.3977 - val_binary_accuracy: 0.8160\n",
            "Epoch 29/200\n",
            "6/6 [==============================] - 0s 6ms/step - loss: 0.4648 - binary_accuracy: 0.7865 - val_loss: 0.3968 - val_binary_accuracy: 0.8160\n",
            "Epoch 30/200\n",
            "6/6 [==============================] - 0s 6ms/step - loss: 0.4565 - binary_accuracy: 0.7926 - val_loss: 0.3972 - val_binary_accuracy: 0.8160\n",
            "Epoch 31/200\n",
            "6/6 [==============================] - 0s 6ms/step - loss: 0.4561 - binary_accuracy: 0.7819 - val_loss: 0.3963 - val_binary_accuracy: 0.8160\n",
            "Epoch 32/200\n",
            "6/6 [==============================] - 0s 7ms/step - loss: 0.4507 - binary_accuracy: 0.7926 - val_loss: 0.3945 - val_binary_accuracy: 0.8160\n",
            "Epoch 33/200\n",
            "6/6 [==============================] - 0s 8ms/step - loss: 0.4533 - binary_accuracy: 0.7926 - val_loss: 0.3920 - val_binary_accuracy: 0.8160\n",
            "Epoch 34/200\n",
            "6/6 [==============================] - 0s 7ms/step - loss: 0.4513 - binary_accuracy: 0.7896 - val_loss: 0.3884 - val_binary_accuracy: 0.8221\n",
            "Epoch 35/200\n",
            "6/6 [==============================] - 0s 7ms/step - loss: 0.4457 - binary_accuracy: 0.7880 - val_loss: 0.3873 - val_binary_accuracy: 0.8221\n",
            "Epoch 36/200\n",
            "6/6 [==============================] - 0s 7ms/step - loss: 0.4474 - binary_accuracy: 0.7880 - val_loss: 0.3842 - val_binary_accuracy: 0.8282\n",
            "Epoch 37/200\n",
            "6/6 [==============================] - 0s 7ms/step - loss: 0.4470 - binary_accuracy: 0.7880 - val_loss: 0.3826 - val_binary_accuracy: 0.8282\n",
            "Epoch 38/200\n",
            "6/6 [==============================] - 0s 6ms/step - loss: 0.4427 - binary_accuracy: 0.7896 - val_loss: 0.3814 - val_binary_accuracy: 0.8282\n",
            "Epoch 39/200\n",
            "6/6 [==============================] - 0s 11ms/step - loss: 0.4465 - binary_accuracy: 0.7865 - val_loss: 0.3803 - val_binary_accuracy: 0.8282\n",
            "Epoch 40/200\n",
            "6/6 [==============================] - 0s 6ms/step - loss: 0.4403 - binary_accuracy: 0.7880 - val_loss: 0.3805 - val_binary_accuracy: 0.8282\n",
            "Epoch 41/200\n",
            "6/6 [==============================] - 0s 6ms/step - loss: 0.4346 - binary_accuracy: 0.7865 - val_loss: 0.3795 - val_binary_accuracy: 0.8282\n",
            "Epoch 42/200\n",
            "6/6 [==============================] - 0s 10ms/step - loss: 0.4391 - binary_accuracy: 0.7957 - val_loss: 0.3789 - val_binary_accuracy: 0.8405\n",
            "Epoch 43/200\n",
            "6/6 [==============================] - 0s 7ms/step - loss: 0.4342 - binary_accuracy: 0.7972 - val_loss: 0.3778 - val_binary_accuracy: 0.8405\n",
            "Epoch 44/200\n",
            "6/6 [==============================] - 0s 7ms/step - loss: 0.4358 - binary_accuracy: 0.7880 - val_loss: 0.3765 - val_binary_accuracy: 0.8344\n",
            "Epoch 45/200\n",
            "6/6 [==============================] - 0s 7ms/step - loss: 0.4309 - binary_accuracy: 0.7911 - val_loss: 0.3770 - val_binary_accuracy: 0.8344\n",
            "Epoch 46/200\n",
            "6/6 [==============================] - 0s 10ms/step - loss: 0.4363 - binary_accuracy: 0.7896 - val_loss: 0.3769 - val_binary_accuracy: 0.8282\n",
            "Epoch 47/200\n",
            "6/6 [==============================] - 0s 6ms/step - loss: 0.4318 - binary_accuracy: 0.7911 - val_loss: 0.3777 - val_binary_accuracy: 0.8221\n",
            "Epoch 48/200\n",
            "6/6 [==============================] - 0s 6ms/step - loss: 0.4306 - binary_accuracy: 0.7942 - val_loss: 0.3789 - val_binary_accuracy: 0.8221\n",
            "Epoch 49/200\n",
            "6/6 [==============================] - 0s 10ms/step - loss: 0.4282 - binary_accuracy: 0.7988 - val_loss: 0.3788 - val_binary_accuracy: 0.8221\n",
            "Epoch 50/200\n",
            "6/6 [==============================] - 0s 7ms/step - loss: 0.4261 - binary_accuracy: 0.8003 - val_loss: 0.3787 - val_binary_accuracy: 0.8098\n",
            "Epoch 51/200\n",
            "6/6 [==============================] - 0s 6ms/step - loss: 0.4233 - binary_accuracy: 0.8065 - val_loss: 0.3774 - val_binary_accuracy: 0.8098\n",
            "Epoch 52/200\n",
            "6/6 [==============================] - 0s 7ms/step - loss: 0.4335 - binary_accuracy: 0.8003 - val_loss: 0.3765 - val_binary_accuracy: 0.8160\n",
            "Epoch 53/200\n",
            "6/6 [==============================] - 0s 7ms/step - loss: 0.4195 - binary_accuracy: 0.8003 - val_loss: 0.3752 - val_binary_accuracy: 0.8160\n",
            "Epoch 54/200\n",
            "6/6 [==============================] - 0s 6ms/step - loss: 0.4254 - binary_accuracy: 0.7957 - val_loss: 0.3745 - val_binary_accuracy: 0.8098\n",
            "Epoch 55/200\n",
            "6/6 [==============================] - 0s 7ms/step - loss: 0.4240 - binary_accuracy: 0.8049 - val_loss: 0.3741 - val_binary_accuracy: 0.8098\n",
            "Epoch 56/200\n",
            "6/6 [==============================] - 0s 6ms/step - loss: 0.4242 - binary_accuracy: 0.8018 - val_loss: 0.3749 - val_binary_accuracy: 0.8098\n",
            "Epoch 57/200\n",
            "6/6 [==============================] - 0s 7ms/step - loss: 0.4245 - binary_accuracy: 0.7926 - val_loss: 0.3753 - val_binary_accuracy: 0.8037\n",
            "Epoch 58/200\n",
            "6/6 [==============================] - 0s 7ms/step - loss: 0.4233 - binary_accuracy: 0.8003 - val_loss: 0.3760 - val_binary_accuracy: 0.8037\n",
            "Epoch 59/200\n",
            "6/6 [==============================] - 0s 7ms/step - loss: 0.4236 - binary_accuracy: 0.7957 - val_loss: 0.3774 - val_binary_accuracy: 0.8037\n",
            "Epoch 60/200\n",
            "6/6 [==============================] - 0s 6ms/step - loss: 0.4255 - binary_accuracy: 0.7880 - val_loss: 0.3779 - val_binary_accuracy: 0.7975\n",
            "Epoch 61/200\n",
            "6/6 [==============================] - 0s 9ms/step - loss: 0.4177 - binary_accuracy: 0.8095 - val_loss: 0.3782 - val_binary_accuracy: 0.8037\n",
            "Epoch 62/200\n",
            "6/6 [==============================] - 0s 7ms/step - loss: 0.4236 - binary_accuracy: 0.8049 - val_loss: 0.3779 - val_binary_accuracy: 0.8037\n",
            "Epoch 63/200\n",
            "6/6 [==============================] - 0s 6ms/step - loss: 0.4151 - binary_accuracy: 0.8018 - val_loss: 0.3786 - val_binary_accuracy: 0.7975\n",
            "Epoch 64/200\n",
            "6/6 [==============================] - 0s 7ms/step - loss: 0.4143 - binary_accuracy: 0.7942 - val_loss: 0.3790 - val_binary_accuracy: 0.8037\n",
            "Epoch 65/200\n",
            "6/6 [==============================] - 0s 6ms/step - loss: 0.4106 - binary_accuracy: 0.8080 - val_loss: 0.3793 - val_binary_accuracy: 0.8037\n",
            "Epoch 66/200\n",
            "6/6 [==============================] - 0s 8ms/step - loss: 0.4149 - binary_accuracy: 0.8080 - val_loss: 0.3783 - val_binary_accuracy: 0.8037\n",
            "Epoch 67/200\n",
            "6/6 [==============================] - 0s 6ms/step - loss: 0.4118 - binary_accuracy: 0.8018 - val_loss: 0.3782 - val_binary_accuracy: 0.7975\n",
            "Epoch 68/200\n",
            "6/6 [==============================] - 0s 6ms/step - loss: 0.4142 - binary_accuracy: 0.8003 - val_loss: 0.3780 - val_binary_accuracy: 0.7975\n",
            "Epoch 69/200\n",
            "6/6 [==============================] - 0s 6ms/step - loss: 0.4104 - binary_accuracy: 0.8049 - val_loss: 0.3777 - val_binary_accuracy: 0.7975\n",
            "Epoch 70/200\n",
            "6/6 [==============================] - 0s 7ms/step - loss: 0.4129 - binary_accuracy: 0.7957 - val_loss: 0.3768 - val_binary_accuracy: 0.7975\n"
          ]
        },
        {
          "output_type": "execute_result",
          "data": {
            "text/plain": [
              "<matplotlib.axes._subplots.AxesSubplot at 0x7fa3dfbbeb90>"
            ]
          },
          "metadata": {},
          "execution_count": 26
        },
        {
          "output_type": "display_data",
          "data": {
            "text/plain": [
              "<Figure size 432x288 with 1 Axes>"
            ],
            "image/png": "[encoded data removed]"
          },
          "metadata": {
            "needs_background": "light"
          }
        },
        {
          "output_type": "display_data",
          "data": {
            "text/plain": [
              "<Figure size 432x288 with 1 Axes>"
            ],
            "image/png": "[encoded data removed]"
          },
          "metadata": {
            "needs_background": "light"
          }
        }
      ],
      "source": [
        "model = keras.Sequential([\n",
        "    layers.BatchNormalization(input_shape=[X_train.shape[1]]),\n",
        "    layers.Dense(16, activation='relu'),\n",
        "    # layers.BatchNormalization(),\n",
        "    # layers.Dropout(0.3),\n",
        "    # layers.Dense(6, activation='relu'),\n",
        "    # layers.BatchNormalization(),\n",
        "    # layers.Dropout(0.3),\n",
        "    layers.Dense(1, activation='sigmoid'),\n",
        "])\n",
        "\n",
        "model.compile(\n",
        "    optimizer=\"adam\",\n",
        "    loss=\"binary_crossentropy\",\n",
        "    metrics=[\"binary_accuracy\"],\n",
        ")\n",
        "\n",
        "early_stopping = keras.callbacks.EarlyStopping(\n",
        "    patience=15,\n",
        "    min_delta=0.001,\n",
        "    restore_best_weights=True,\n",
        ")\n",
        "ann = model.fit(\n",
        "    X_train, y_train,\n",
        "    validation_data=(X_test, y_test),\n",
        "    batch_size=128,\n",
        "    epochs=200,\n",
        "    callbacks=[early_stopping],\n",
        ")\n",
        "history_df = pd.DataFrame(ann.history)\n",
        "history_df.loc[:, ['loss', 'val_loss']].plot(title=\"Cross-entropy\")\n",
        "history_df.loc[:, ['binary_accuracy', 'val_binary_accuracy']].plot(title=\"Accuracy\")"
      ]
    },
    {
      "cell_type": "code",
      "execution_count": null,
      "metadata": {
        "colab": {
          "base_uri": "https://localhost:8080/",
          "height": 300
        },
        "id": "sBoQRFhXmP_X",
        "outputId": "b4d3a4e1-dd94-49d1-dd13-9c8b4a19d022"
      },
      "outputs": [
        {
          "output_type": "execute_result",
          "data": {
            "text/plain": [
              "            loss  binary_accuracy   val_loss  val_binary_accuracy\n",
              "count  70.000000        70.000000  70.000000            70.000000\n",
              "mean    0.471897         0.767435   0.443628             0.782472\n",
              "std     0.062196         0.046213   0.160921             0.064214\n",
              "min     0.410387         0.611367   0.374115             0.503067\n",
              "25%     0.425455         0.751536   0.377936             0.779141\n",
              "50%     0.447206         0.788018   0.385768             0.803681\n",
              "75%     0.498027         0.795699   0.438107             0.815951\n",
              "max     0.663278         0.809524   1.479267             0.840491"
            ],
            "text/html": [
              "\n",
              "  <div id=\"df-3f4b6f06-8a46-46f4-9ebb-445772ba043c\">\n",
              "    <div class=\"colab-df-container\">\n",
              "      <div>\n",
              "<style scoped>\n",
              "    .dataframe tbody tr th:only-of-type {\n",
              "        vertical-align: middle;\n",
              "    }\n",
              "\n",
              "    .dataframe tbody tr th {\n",
              "        vertical-align: top;\n",
              "    }\n",
              "\n",
              "    .dataframe thead th {\n",
              "        text-align: right;\n",
              "    }\n",
              "</style>\n",
              "<table border=\"1\" class=\"dataframe\">\n",
              "  <thead>\n",
              "    <tr style=\"text-align: right;\">\n",
              "      <th></th>\n",
              "      <th>loss</th>\n",
              "      <th>binary_accuracy</th>\n",
              "      <th>val_loss</th>\n",
              "      <th>val_binary_accuracy</th>\n",
              "    </tr>\n",
              "  </thead>\n",
              "  <tbody>\n",
              "    <tr>\n",
              "      <th>count</th>\n",
              "      <td>70.000000</td>\n",
              "      <td>70.000000</td>\n",
              "      <td>70.000000</td>\n",
              "      <td>70.000000</td>\n",
              "    </tr>\n",
              "    <tr>\n",
              "      <th>mean</th>\n",
              "      <td>0.471897</td>\n",
              "      <td>0.767435</td>\n",
              "      <td>0.443628</td>\n",
              "      <td>0.782472</td>\n",
              "    </tr>\n",
              "    <tr>\n",
              "      <th>std</th>\n",
              "      <td>0.062196</td>\n",
              "      <td>0.046213</td>\n",
              "      <td>0.160921</td>\n",
              "      <td>0.064214</td>\n",
              "    </tr>\n",
              "    <tr>\n",
              "      <th>min</th>\n",
              "      <td>0.410387</td>\n",
              "      <td>0.611367</td>\n",
              "      <td>0.374115</td>\n",
              "      <td>0.503067</td>\n",
              "    </tr>\n",
              "    <tr>\n",
              "      <th>25%</th>\n",
              "      <td>0.425455</td>\n",
              "      <td>0.751536</td>\n",
              "      <td>0.377936</td>\n",
              "      <td>0.779141</td>\n",
              "    </tr>\n",
              "    <tr>\n",
              "      <th>50%</th>\n",
              "      <td>0.447206</td>\n",
              "      <td>0.788018</td>\n",
              "      <td>0.385768</td>\n",
              "      <td>0.803681</td>\n",
              "    </tr>\n",
              "    <tr>\n",
              "      <th>75%</th>\n",
              "      <td>0.498027</td>\n",
              "      <td>0.795699</td>\n",
              "      <td>0.438107</td>\n",
              "      <td>0.815951</td>\n",
              "    </tr>\n",
              "    <tr>\n",
              "      <th>max</th>\n",
              "      <td>0.663278</td>\n",
              "      <td>0.809524</td>\n",
              "      <td>1.479267</td>\n",
              "      <td>0.840491</td>\n",
              "    </tr>\n",
              "  </tbody>\n",
              "</table>\n",
              "</div>\n",
              "      <button class=\"colab-df-convert\" onclick=\"convertToInteractive('df-3f4b6f06-8a46-46f4-9ebb-445772ba043c')\"\n",
              "              title=\"Convert this dataframe to an interactive table.\"\n",
              "              style=\"display:none;\">\n",
              "        \n",
              "  <svg xmlns=\"http://www.w3.org/2000/svg\" height=\"24px\"viewBox=\"0 0 24 24\"\n",
              "       width=\"24px\">\n",
              "    <path d=\"M0 0h24v24H0V0z\" fill=\"none\"/>\n",
              "    <path d=\"M18.56 5.44l.94 2.06.94-2.06 2.06-.94-2.06-.94-.94-2.06-.94 2.06-2.06.94zm-11 1L8.5 8.5l.94-2.06 2.06-.94-2.06-.94L8.5 2.5l-.94 2.06-2.06.94zm10 10l.94 2.06.94-2.06 2.06-.94-2.06-.94-.94-2.06-.94 2.06-2.06.94z\"/><path d=\"M17.41 7.96l-1.37-1.37c-.4-.4-.92-.59-1.43-.59-.52 0-1.04.2-1.43.59L10.3 9.45l-7.72 7.72c-.78.78-.78 2.05 0 2.83L4 21.41c.39.39.9.59 1.41.59.51 0 1.02-.2 1.41-.59l7.78-7.78 2.81-2.81c.8-.78.8-2.07 0-2.86zM5.41 20L4 18.59l7.72-7.72 1.47 1.35L5.41 20z\"/>\n",
              "  </svg>\n",
              "      </button>\n",
              "      \n",
              "  <style>\n",
              "    .colab-df-container {\n",
              "      display:flex;\n",
              "      flex-wrap:wrap;\n",
              "      gap: 12px;\n",
              "    }\n",
              "\n",
              "    .colab-df-convert {\n",
              "      background-color: #E8F0FE;\n",
              "      border: none;\n",
              "      border-radius: 50%;\n",
              "      cursor: pointer;\n",
              "      display: none;\n",
              "      fill: #1967D2;\n",
              "      height: 32px;\n",
              "      padding: 0 0 0 0;\n",
              "      width: 32px;\n",
              "    }\n",
              "\n",
              "    .colab-df-convert:hover {\n",
              "      background-color: #E2EBFA;\n",
              "      box-shadow: 0px 1px 2px rgba(60, 64, 67, 0.3), 0px 1px 3px 1px rgba(60, 64, 67, 0.15);\n",
              "      fill: #174EA6;\n",
              "    }\n",
              "\n",
              "    [theme=dark] .colab-df-convert {\n",
              "      background-color: #3B4455;\n",
              "      fill: #D2E3FC;\n",
              "    }\n",
              "\n",
              "    [theme=dark] .colab-df-convert:hover {\n",
              "      background-color: #434B5C;\n",
              "      box-shadow: 0px 1px 3px 1px rgba(0, 0, 0, 0.15);\n",
              "      filter: drop-shadow(0px 1px 2px rgba(0, 0, 0, 0.3));\n",
              "      fill: #FFFFFF;\n",
              "    }\n",
              "  </style>\n",
              "\n",
              "      <script>\n",
              "        const buttonEl =\n",
              "          document.querySelector('#df-3f4b6f06-8a46-46f4-9ebb-445772ba043c button.colab-df-convert');\n",
              "        buttonEl.style.display =\n",
              "          google.colab.kernel.accessAllowed ? 'block' : 'none';\n",
              "\n",
              "        async function convertToInteractive(key) {\n",
              "          const element = document.querySelector('#df-3f4b6f06-8a46-46f4-9ebb-445772ba043c');\n",
              "          const dataTable =\n",
              "            await google.colab.kernel.invokeFunction('convertToInteractive',\n",
              "                                                     [key], {});\n",
              "          if (!dataTable) return;\n",
              "\n",
              "          const docLinkHtml = 'Like what you see? Visit the ' +\n",
              "            '<a target=\"_blank\" href=https://colab.research.google.com/notebooks/data_table.ipynb>data table notebook</a>'\n",
              "            + ' to learn more about interactive tables.';\n",
              "          element.innerHTML = '';\n",
              "          dataTable['output_type'] = 'display_data';\n",
              "          await google.colab.output.renderOutput(dataTable, element);\n",
              "          const docLink = document.createElement('div');\n",
              "          docLink.innerHTML = docLinkHtml;\n",
              "          element.appendChild(docLink);\n",
              "        }\n",
              "      </script>\n",
              "    </div>\n",
              "  </div>\n",
              "  "
            ]
          },
          "metadata": {},
          "execution_count": 27
        }
      ],
      "source": [
        "history_df.describe()"
      ]
    },
    {
      "cell_type": "markdown",
      "source": [
        "---"
      ],
      "metadata": {
        "id": "ly7htTbVOzLe"
      }
    },
    {
      "cell_type": "markdown",
      "source": [
        "---"
      ],
      "metadata": {
        "id": "rbGj-h-mOyYD"
      }
    }
  ],
  "metadata": {
    "colab": {
      "provenance": []
    },
    "kernelspec": {
      "display_name": "Python 3",
      "name": "python3"
    },
    "language_info": {
      "name": "python"
    }
  },
  "nbformat": 4,
  "nbformat_minor": 0
}